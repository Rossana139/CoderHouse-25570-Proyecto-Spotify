{
 "cells": [
  {
   "cell_type": "markdown",
   "metadata": {},
   "source": [
    "# Neural Nets"
   ]
  },
  {
   "cell_type": "code",
   "execution_count": 12,
   "metadata": {},
   "outputs": [],
   "source": [
    "import numpy as np \n",
    "import pandas as pd\n",
    "import matplotlib.pyplot as plt\n",
    "import seaborn as sns\n",
    "import math\n",
    "plt.rcParams['axes.facecolor'] = 'white'\n",
    "plt.rcParams[\"figure.facecolor\"] = 'green'"
   ]
  },
  {
   "cell_type": "code",
   "execution_count": 13,
   "metadata": {},
   "outputs": [],
   "source": [
    "train = pd.read_csv('../Base de Datos/trainset-sin-id.csv')\n",
    "test = pd.read_csv('../Base de Datos/testset-sin-id.csv')\n",
    "train = train.drop(['t_mode', 'id'], axis = 1)\n",
    "test = test.drop(['t_mode', 'id'], axis = 1)"
   ]
  },
  {
   "cell_type": "code",
   "execution_count": 14,
   "metadata": {},
   "outputs": [
    {
     "data": {
      "text/html": [
       "<div>\n",
       "<style scoped>\n",
       "    .dataframe tbody tr th:only-of-type {\n",
       "        vertical-align: middle;\n",
       "    }\n",
       "\n",
       "    .dataframe tbody tr th {\n",
       "        vertical-align: top;\n",
       "    }\n",
       "\n",
       "    .dataframe thead th {\n",
       "        text-align: right;\n",
       "    }\n",
       "</style>\n",
       "<table border=\"1\" class=\"dataframe\">\n",
       "  <thead>\n",
       "    <tr style=\"text-align: right;\">\n",
       "      <th></th>\n",
       "      <th>t_key</th>\n",
       "      <th>t_dur</th>\n",
       "      <th>t_dance</th>\n",
       "      <th>t_energy</th>\n",
       "      <th>t_speech</th>\n",
       "      <th>t_acous</th>\n",
       "      <th>t_ins</th>\n",
       "      <th>t_live</th>\n",
       "      <th>t_val</th>\n",
       "      <th>t_tempo</th>\n",
       "      <th>popularity</th>\n",
       "      <th>ClasePopularidad</th>\n",
       "    </tr>\n",
       "  </thead>\n",
       "  <tbody>\n",
       "    <tr>\n",
       "      <th>0</th>\n",
       "      <td>2.217079</td>\n",
       "      <td>139.731754</td>\n",
       "      <td>0.869118</td>\n",
       "      <td>0.519249</td>\n",
       "      <td>0.029225</td>\n",
       "      <td>0.319573</td>\n",
       "      <td>0.002967</td>\n",
       "      <td>0.091678</td>\n",
       "      <td>0.188732</td>\n",
       "      <td>26.457350</td>\n",
       "      <td>34.0</td>\n",
       "      <td>2</td>\n",
       "    </tr>\n",
       "    <tr>\n",
       "      <th>1</th>\n",
       "      <td>4.304625</td>\n",
       "      <td>140.968235</td>\n",
       "      <td>1.910310</td>\n",
       "      <td>0.769341</td>\n",
       "      <td>0.067253</td>\n",
       "      <td>0.023262</td>\n",
       "      <td>0.000000</td>\n",
       "      <td>0.052209</td>\n",
       "      <td>0.663667</td>\n",
       "      <td>23.141670</td>\n",
       "      <td>2.0</td>\n",
       "      <td>1</td>\n",
       "    </tr>\n",
       "    <tr>\n",
       "      <th>2</th>\n",
       "      <td>4.304625</td>\n",
       "      <td>109.520199</td>\n",
       "      <td>0.977668</td>\n",
       "      <td>0.253525</td>\n",
       "      <td>0.026992</td>\n",
       "      <td>0.364818</td>\n",
       "      <td>0.001985</td>\n",
       "      <td>0.074177</td>\n",
       "      <td>0.444230</td>\n",
       "      <td>29.855429</td>\n",
       "      <td>62.0</td>\n",
       "      <td>4</td>\n",
       "    </tr>\n",
       "    <tr>\n",
       "      <th>3</th>\n",
       "      <td>3.828397</td>\n",
       "      <td>75.954996</td>\n",
       "      <td>1.509001</td>\n",
       "      <td>0.931646</td>\n",
       "      <td>0.106186</td>\n",
       "      <td>0.139922</td>\n",
       "      <td>0.000000</td>\n",
       "      <td>0.120665</td>\n",
       "      <td>0.491329</td>\n",
       "      <td>31.462427</td>\n",
       "      <td>19.0</td>\n",
       "      <td>1</td>\n",
       "    </tr>\n",
       "    <tr>\n",
       "      <th>4</th>\n",
       "      <td>3.828397</td>\n",
       "      <td>91.244236</td>\n",
       "      <td>1.555391</td>\n",
       "      <td>0.545826</td>\n",
       "      <td>0.035371</td>\n",
       "      <td>0.251469</td>\n",
       "      <td>0.149262</td>\n",
       "      <td>0.083623</td>\n",
       "      <td>0.272233</td>\n",
       "      <td>34.090480</td>\n",
       "      <td>43.0</td>\n",
       "      <td>3</td>\n",
       "    </tr>\n",
       "  </tbody>\n",
       "</table>\n",
       "</div>"
      ],
      "text/plain": [
       "      t_key       t_dur   t_dance  t_energy  t_speech   t_acous     t_ins  \\\n",
       "0  2.217079  139.731754  0.869118  0.519249  0.029225  0.319573  0.002967   \n",
       "1  4.304625  140.968235  1.910310  0.769341  0.067253  0.023262  0.000000   \n",
       "2  4.304625  109.520199  0.977668  0.253525  0.026992  0.364818  0.001985   \n",
       "3  3.828397   75.954996  1.509001  0.931646  0.106186  0.139922  0.000000   \n",
       "4  3.828397   91.244236  1.555391  0.545826  0.035371  0.251469  0.149262   \n",
       "\n",
       "     t_live     t_val    t_tempo  popularity  ClasePopularidad  \n",
       "0  0.091678  0.188732  26.457350        34.0                 2  \n",
       "1  0.052209  0.663667  23.141670         2.0                 1  \n",
       "2  0.074177  0.444230  29.855429        62.0                 4  \n",
       "3  0.120665  0.491329  31.462427        19.0                 1  \n",
       "4  0.083623  0.272233  34.090480        43.0                 3  "
      ]
     },
     "execution_count": 14,
     "metadata": {},
     "output_type": "execute_result"
    }
   ],
   "source": [
    "train.head()"
   ]
  },
  {
   "cell_type": "code",
   "execution_count": 15,
   "metadata": {},
   "outputs": [
    {
     "data": {
      "text/plain": [
       "<matplotlib.axes._subplots.AxesSubplot at 0x7f9ef683d890>"
      ]
     },
     "execution_count": 15,
     "metadata": {},
     "output_type": "execute_result"
    },
    {
     "data": {
      "image/png": "[encoded data removed]",
      "text/plain": [
       "<Figure size 432x288 with 1 Axes>"
      ]
     },
     "metadata": {},
     "output_type": "display_data"
    }
   ],
   "source": [
    "fig = plt.figure()\n",
    "sns.distplot(train['popularity'])"
   ]
  },
  {
   "cell_type": "code",
   "execution_count": null,
   "metadata": {},
   "outputs": [],
   "source": []
  },
  {
   "cell_type": "code",
   "execution_count": 77,
   "metadata": {},
   "outputs": [
    {
     "data": {
      "text/plain": [
       "<matplotlib.axes._subplots.AxesSubplot at 0x7fd01e7ac550>"
      ]
     },
     "execution_count": 77,
     "metadata": {},
     "output_type": "execute_result"
    },
    {
     "data": {
      "image/png": "[encoded data removed]",
      "text/plain": [
       "<Figure size 432x288 with 1 Axes>"
      ]
     },
     "metadata": {
      "needs_background": "light"
     },
     "output_type": "display_data"
    }
   ],
   "source": [
    "sns.barplot(train['popularity'].value_counts())"
   ]
  },
  {
   "cell_type": "code",
   "execution_count": 11,
   "metadata": {},
   "outputs": [
    {
     "data": {
      "text/html": [
       "<div>\n",
       "<style scoped>\n",
       "    .dataframe tbody tr th:only-of-type {\n",
       "        vertical-align: middle;\n",
       "    }\n",
       "\n",
       "    .dataframe tbody tr th {\n",
       "        vertical-align: top;\n",
       "    }\n",
       "\n",
       "    .dataframe thead th {\n",
       "        text-align: right;\n",
       "    }\n",
       "</style>\n",
       "<table border=\"1\" class=\"dataframe\">\n",
       "  <thead>\n",
       "    <tr style=\"text-align: right;\">\n",
       "      <th></th>\n",
       "      <th>t_key</th>\n",
       "      <th>t_dur</th>\n",
       "      <th>t_dance</th>\n",
       "      <th>t_energy</th>\n",
       "      <th>t_speech</th>\n",
       "      <th>t_acous</th>\n",
       "      <th>t_ins</th>\n",
       "      <th>t_live</th>\n",
       "      <th>t_val</th>\n",
       "      <th>t_tempo</th>\n",
       "      <th>popularity</th>\n",
       "      <th>ClasePopularidad</th>\n",
       "    </tr>\n",
       "  </thead>\n",
       "  <tbody>\n",
       "    <tr>\n",
       "      <th>0</th>\n",
       "      <td>3.873489</td>\n",
       "      <td>102.077434</td>\n",
       "      <td>1.136005</td>\n",
       "      <td>0.652068</td>\n",
       "      <td>0.038806</td>\n",
       "      <td>0.245297</td>\n",
       "      <td>0.000004</td>\n",
       "      <td>0.061371</td>\n",
       "      <td>0.313870</td>\n",
       "      <td>20.325737</td>\n",
       "      <td>56.0</td>\n",
       "      <td>3</td>\n",
       "    </tr>\n",
       "    <tr>\n",
       "      <th>1</th>\n",
       "      <td>1.595405</td>\n",
       "      <td>163.222452</td>\n",
       "      <td>1.559666</td>\n",
       "      <td>1.375892</td>\n",
       "      <td>0.090603</td>\n",
       "      <td>0.000999</td>\n",
       "      <td>0.144474</td>\n",
       "      <td>0.079899</td>\n",
       "      <td>0.237952</td>\n",
       "      <td>32.519312</td>\n",
       "      <td>22.0</td>\n",
       "      <td>2</td>\n",
       "    </tr>\n",
       "    <tr>\n",
       "      <th>2</th>\n",
       "      <td>4.359420</td>\n",
       "      <td>113.531853</td>\n",
       "      <td>1.593801</td>\n",
       "      <td>1.504156</td>\n",
       "      <td>0.052763</td>\n",
       "      <td>0.030623</td>\n",
       "      <td>0.005559</td>\n",
       "      <td>0.070192</td>\n",
       "      <td>0.776168</td>\n",
       "      <td>26.369467</td>\n",
       "      <td>22.0</td>\n",
       "      <td>2</td>\n",
       "    </tr>\n",
       "    <tr>\n",
       "      <th>3</th>\n",
       "      <td>3.873489</td>\n",
       "      <td>96.792061</td>\n",
       "      <td>1.289259</td>\n",
       "      <td>1.595320</td>\n",
       "      <td>0.048714</td>\n",
       "      <td>0.151174</td>\n",
       "      <td>0.000000</td>\n",
       "      <td>0.034878</td>\n",
       "      <td>0.862629</td>\n",
       "      <td>32.618254</td>\n",
       "      <td>50.0</td>\n",
       "      <td>3</td>\n",
       "    </tr>\n",
       "    <tr>\n",
       "      <th>4</th>\n",
       "      <td>4.359420</td>\n",
       "      <td>102.640817</td>\n",
       "      <td>1.814995</td>\n",
       "      <td>1.031562</td>\n",
       "      <td>0.036711</td>\n",
       "      <td>0.015053</td>\n",
       "      <td>0.000002</td>\n",
       "      <td>0.089617</td>\n",
       "      <td>0.838169</td>\n",
       "      <td>25.157347</td>\n",
       "      <td>35.0</td>\n",
       "      <td>2</td>\n",
       "    </tr>\n",
       "  </tbody>\n",
       "</table>\n",
       "</div>"
      ],
      "text/plain": [
       "      t_key       t_dur   t_dance  t_energy  t_speech   t_acous     t_ins  \\\n",
       "0  3.873489  102.077434  1.136005  0.652068  0.038806  0.245297  0.000004   \n",
       "1  1.595405  163.222452  1.559666  1.375892  0.090603  0.000999  0.144474   \n",
       "2  4.359420  113.531853  1.593801  1.504156  0.052763  0.030623  0.005559   \n",
       "3  3.873489   96.792061  1.289259  1.595320  0.048714  0.151174  0.000000   \n",
       "4  4.359420  102.640817  1.814995  1.031562  0.036711  0.015053  0.000002   \n",
       "\n",
       "     t_live     t_val    t_tempo  popularity  ClasePopularidad  \n",
       "0  0.061371  0.313870  20.325737        56.0                 3  \n",
       "1  0.079899  0.237952  32.519312        22.0                 2  \n",
       "2  0.070192  0.776168  26.369467        22.0                 2  \n",
       "3  0.034878  0.862629  32.618254        50.0                 3  \n",
       "4  0.089617  0.838169  25.157347        35.0                 2  "
      ]
     },
     "execution_count": 11,
     "metadata": {},
     "output_type": "execute_result"
    }
   ],
   "source": [
    "test.head()"
   ]
  },
  {
   "cell_type": "code",
   "execution_count": 12,
   "metadata": {},
   "outputs": [
    {
     "name": "stdout",
     "output_type": "stream",
     "text": [
      "(55543, 12) (13920, 12)\n"
     ]
    }
   ],
   "source": [
    "print(train.shape, test.shape)"
   ]
  },
  {
   "cell_type": "markdown",
   "metadata": {},
   "source": [
    "Generate X_train, X_test, y_train, y_test"
   ]
  },
  {
   "cell_type": "code",
   "execution_count": 23,
   "metadata": {},
   "outputs": [],
   "source": [
    "X_train = train.drop(['popularity', 'ClasePopularidad'], axis = 1)\n",
    "y_train = train['popularity']\n",
    "X_test = test.drop(['popularity', 'ClasePopularidad'], axis = 1)\n",
    "y_test = test['popularity']\n"
   ]
  },
  {
   "cell_type": "markdown",
   "metadata": {},
   "source": [
    "Generate X_train_scaled, X_test_scaled.\n",
    "To do that we will import Standard Scaler from sklearn.preprocessing"
   ]
  },
  {
   "cell_type": "code",
   "execution_count": 24,
   "metadata": {},
   "outputs": [],
   "source": [
    "from sklearn.preprocessing import StandardScaler\n",
    "# Instantiate the Object\n",
    "scaler = StandardScaler()\n",
    "# Fit the object to the train dataset\n",
    "scaler.fit(X_train)\n",
    "# Transform the train and test dataset (note we do not fit to the test in order to prevent leakage)\n",
    "X_train_scaled = scaler.transform(X_train)\n",
    "X_test_scaled = scaler.transform(X_test)\n"
   ]
  },
  {
   "cell_type": "markdown",
   "metadata": {},
   "source": [
    "## Initialize the Neural Net\n",
    "We are going to use a Multi-Layer-Perceptron here, to check out how it performs. I suspect it will probably do better than earlier methods"
   ]
  },
  {
   "cell_type": "code",
   "execution_count": 14,
   "metadata": {},
   "outputs": [],
   "source": [
    "from sklearn.neural_network import MLPClassifier, MLPRegressor"
   ]
  },
  {
   "cell_type": "markdown",
   "metadata": {},
   "source": [
    "Initialize a neural net object that has 2 16 neuron hidden layers"
   ]
  },
  {
   "cell_type": "code",
   "execution_count": 78,
   "metadata": {},
   "outputs": [],
   "source": [
    "neural_net = MLPRegressor(max_iter = 300, activation = 'relu', hidden_layer_sizes = (16, 10, 12), solver = 'adam', random_state = 42, tol = 0.00005, verbose = True)\n"
   ]
  },
  {
   "cell_type": "code",
   "execution_count": 79,
   "metadata": {},
   "outputs": [
    {
     "name": "stdout",
     "output_type": "stream",
     "text": [
      "Iteration 1, loss = 378.92090363\n",
      "Iteration 2, loss = 175.90020226\n",
      "Iteration 3, loss = 169.87897735\n",
      "Iteration 4, loss = 166.50022952\n",
      "Iteration 5, loss = 164.26990280\n",
      "Iteration 6, loss = 162.78667125\n",
      "Iteration 7, loss = 161.66356736\n",
      "Iteration 8, loss = 160.87971972\n",
      "Iteration 9, loss = 160.22454237\n",
      "Iteration 10, loss = 159.57998865\n",
      "Iteration 11, loss = 159.02917659\n",
      "Iteration 12, loss = 158.50570212\n",
      "Iteration 13, loss = 158.08204382\n",
      "Iteration 14, loss = 157.75984483\n",
      "Iteration 15, loss = 157.46822202\n",
      "Iteration 16, loss = 157.23410712\n",
      "Iteration 17, loss = 156.97806112\n",
      "Iteration 18, loss = 156.81935977\n",
      "Iteration 19, loss = 156.59393452\n",
      "Iteration 20, loss = 156.49845222\n",
      "Iteration 21, loss = 156.34852669\n",
      "Iteration 22, loss = 156.20000751\n",
      "Iteration 23, loss = 156.05105236\n",
      "Iteration 24, loss = 155.92569707\n",
      "Iteration 25, loss = 155.85669822\n",
      "Iteration 26, loss = 155.72550442\n",
      "Iteration 27, loss = 155.69417096\n",
      "Iteration 28, loss = 155.63836937\n",
      "Iteration 29, loss = 155.54566292\n",
      "Iteration 30, loss = 155.44881226\n",
      "Iteration 31, loss = 155.39016538\n",
      "Iteration 32, loss = 155.31424948\n",
      "Iteration 33, loss = 155.23242743\n",
      "Iteration 34, loss = 155.21286758\n",
      "Iteration 35, loss = 155.17392559\n",
      "Iteration 36, loss = 155.08102637\n",
      "Iteration 37, loss = 155.03922607\n",
      "Iteration 38, loss = 155.00391690\n",
      "Iteration 39, loss = 155.00983154\n",
      "Iteration 40, loss = 155.03561646\n",
      "Iteration 41, loss = 154.90468785\n",
      "Iteration 42, loss = 154.86504161\n",
      "Iteration 43, loss = 154.91021974\n",
      "Iteration 44, loss = 154.82116445\n",
      "Iteration 45, loss = 154.70306232\n",
      "Iteration 46, loss = 154.72176978\n",
      "Iteration 47, loss = 154.66333396\n",
      "Iteration 48, loss = 154.66711331\n",
      "Iteration 49, loss = 154.61638922\n",
      "Iteration 50, loss = 154.60811401\n",
      "Iteration 51, loss = 154.59056820\n",
      "Iteration 52, loss = 154.48696464\n",
      "Iteration 53, loss = 154.47278839\n",
      "Iteration 54, loss = 154.52683221\n",
      "Iteration 55, loss = 154.44442107\n",
      "Iteration 56, loss = 154.46488652\n",
      "Iteration 57, loss = 154.42448441\n",
      "Iteration 58, loss = 154.35881599\n",
      "Iteration 59, loss = 154.28146018\n",
      "Iteration 60, loss = 154.40342157\n",
      "Iteration 61, loss = 154.40610233\n",
      "Iteration 62, loss = 154.28581347\n",
      "Iteration 63, loss = 154.28201655\n",
      "Iteration 64, loss = 154.27066677\n",
      "Iteration 65, loss = 154.21715757\n",
      "Iteration 66, loss = 154.20987759\n",
      "Iteration 67, loss = 154.28515691\n",
      "Iteration 68, loss = 154.18944395\n",
      "Iteration 69, loss = 154.22521161\n",
      "Iteration 70, loss = 154.10739594\n",
      "Iteration 71, loss = 154.13428566\n",
      "Iteration 72, loss = 154.02775364\n",
      "Iteration 73, loss = 154.06352271\n",
      "Iteration 74, loss = 154.10488102\n",
      "Iteration 75, loss = 153.98170563\n",
      "Iteration 76, loss = 153.99071023\n",
      "Iteration 77, loss = 154.16413302\n",
      "Iteration 78, loss = 153.99106333\n",
      "Iteration 79, loss = 154.02448836\n",
      "Iteration 80, loss = 153.87022402\n",
      "Iteration 81, loss = 153.94055952\n",
      "Iteration 82, loss = 153.92015108\n",
      "Iteration 83, loss = 153.90833358\n",
      "Iteration 84, loss = 153.84480529\n",
      "Iteration 85, loss = 153.79247182\n",
      "Iteration 86, loss = 153.81254180\n",
      "Iteration 87, loss = 153.86125615\n",
      "Iteration 88, loss = 153.69585449\n",
      "Iteration 89, loss = 153.75061955\n",
      "Iteration 90, loss = 153.74097672\n",
      "Iteration 91, loss = 153.73135437\n",
      "Iteration 92, loss = 153.70328066\n",
      "Iteration 93, loss = 153.68892099\n",
      "Iteration 94, loss = 153.72289774\n",
      "Iteration 95, loss = 153.71859990\n",
      "Iteration 96, loss = 153.71799256\n",
      "Iteration 97, loss = 153.70793373\n",
      "Iteration 98, loss = 153.61332853\n",
      "Iteration 99, loss = 153.53979645\n",
      "Iteration 100, loss = 153.60284806\n",
      "Iteration 101, loss = 153.67767237\n",
      "Iteration 102, loss = 153.65466284\n",
      "Iteration 103, loss = 153.55942572\n",
      "Iteration 104, loss = 153.62577318\n",
      "Iteration 105, loss = 153.58629231\n",
      "Iteration 106, loss = 153.54269756\n",
      "Iteration 107, loss = 153.56334878\n",
      "Iteration 108, loss = 153.45305928\n",
      "Iteration 109, loss = 153.55488599\n",
      "Iteration 110, loss = 153.45195233\n",
      "Iteration 111, loss = 153.46445118\n",
      "Iteration 112, loss = 153.48890116\n",
      "Iteration 113, loss = 153.48785235\n",
      "Iteration 114, loss = 153.46991108\n",
      "Iteration 115, loss = 153.43446595\n",
      "Iteration 116, loss = 153.43750193\n",
      "Iteration 117, loss = 153.43960066\n",
      "Iteration 118, loss = 153.40859883\n",
      "Iteration 119, loss = 153.41397572\n",
      "Iteration 120, loss = 153.40766287\n",
      "Iteration 121, loss = 153.34802952\n",
      "Iteration 122, loss = 153.42412410\n",
      "Iteration 123, loss = 153.34909968\n",
      "Iteration 124, loss = 153.30039265\n",
      "Iteration 125, loss = 153.36097111\n",
      "Iteration 126, loss = 153.35811004\n",
      "Iteration 127, loss = 153.37919655\n",
      "Iteration 128, loss = 153.34869906\n",
      "Iteration 129, loss = 153.34638742\n",
      "Iteration 130, loss = 153.34317885\n",
      "Iteration 131, loss = 153.32394145\n",
      "Iteration 132, loss = 153.37124130\n",
      "Iteration 133, loss = 153.30683570\n",
      "Iteration 134, loss = 153.30177772\n",
      "Iteration 135, loss = 153.32353233\n",
      "Training loss did not improve more than tol=0.000050 for 10 consecutive epochs. Stopping.\n"
     ]
    },
    {
     "data": {
      "text/plain": [
       "MLPRegressor(activation='relu', alpha=0.0001, batch_size='auto', beta_1=0.9,\n",
       "             beta_2=0.999, early_stopping=False, epsilon=1e-08,\n",
       "             hidden_layer_sizes=(16, 10, 12), learning_rate='constant',\n",
       "             learning_rate_init=0.001, max_iter=300, momentum=0.9,\n",
       "             n_iter_no_change=10, nesterovs_momentum=True, power_t=0.5,\n",
       "             random_state=42, shuffle=True, solver='adam', tol=5e-05,\n",
       "             validation_fraction=0.1, verbose=True, warm_start=False)"
      ]
     },
     "execution_count": 79,
     "metadata": {},
     "output_type": "execute_result"
    }
   ],
   "source": [
    "neural_net.fit(X_train_scaled, y_train)"
   ]
  },
  {
   "cell_type": "code",
   "execution_count": 72,
   "metadata": {},
   "outputs": [
    {
     "data": {
      "text/html": [
       "<div>\n",
       "<style scoped>\n",
       "    .dataframe tbody tr th:only-of-type {\n",
       "        vertical-align: middle;\n",
       "    }\n",
       "\n",
       "    .dataframe tbody tr th {\n",
       "        vertical-align: top;\n",
       "    }\n",
       "\n",
       "    .dataframe thead th {\n",
       "        text-align: right;\n",
       "    }\n",
       "</style>\n",
       "<table border=\"1\" class=\"dataframe\">\n",
       "  <thead>\n",
       "    <tr style=\"text-align: right;\">\n",
       "      <th></th>\n",
       "      <th>y_pred</th>\n",
       "      <th>y_test</th>\n",
       "    </tr>\n",
       "  </thead>\n",
       "  <tbody>\n",
       "    <tr>\n",
       "      <th>0</th>\n",
       "      <td>31.939386</td>\n",
       "      <td>56.0</td>\n",
       "    </tr>\n",
       "    <tr>\n",
       "      <th>1</th>\n",
       "      <td>20.109020</td>\n",
       "      <td>22.0</td>\n",
       "    </tr>\n",
       "    <tr>\n",
       "      <th>2</th>\n",
       "      <td>34.241862</td>\n",
       "      <td>22.0</td>\n",
       "    </tr>\n",
       "    <tr>\n",
       "      <th>3</th>\n",
       "      <td>33.648923</td>\n",
       "      <td>50.0</td>\n",
       "    </tr>\n",
       "    <tr>\n",
       "      <th>4</th>\n",
       "      <td>34.922949</td>\n",
       "      <td>35.0</td>\n",
       "    </tr>\n",
       "    <tr>\n",
       "      <th>...</th>\n",
       "      <td>...</td>\n",
       "      <td>...</td>\n",
       "    </tr>\n",
       "    <tr>\n",
       "      <th>13915</th>\n",
       "      <td>29.576143</td>\n",
       "      <td>38.0</td>\n",
       "    </tr>\n",
       "    <tr>\n",
       "      <th>13916</th>\n",
       "      <td>25.369130</td>\n",
       "      <td>13.0</td>\n",
       "    </tr>\n",
       "    <tr>\n",
       "      <th>13917</th>\n",
       "      <td>29.494491</td>\n",
       "      <td>37.0</td>\n",
       "    </tr>\n",
       "    <tr>\n",
       "      <th>13918</th>\n",
       "      <td>27.739570</td>\n",
       "      <td>28.0</td>\n",
       "    </tr>\n",
       "    <tr>\n",
       "      <th>13919</th>\n",
       "      <td>27.746706</td>\n",
       "      <td>54.0</td>\n",
       "    </tr>\n",
       "  </tbody>\n",
       "</table>\n",
       "<p>13920 rows × 2 columns</p>\n",
       "</div>"
      ],
      "text/plain": [
       "          y_pred  y_test\n",
       "0      31.939386    56.0\n",
       "1      20.109020    22.0\n",
       "2      34.241862    22.0\n",
       "3      33.648923    50.0\n",
       "4      34.922949    35.0\n",
       "...          ...     ...\n",
       "13915  29.576143    38.0\n",
       "13916  25.369130    13.0\n",
       "13917  29.494491    37.0\n",
       "13918  27.739570    28.0\n",
       "13919  27.746706    54.0\n",
       "\n",
       "[13920 rows x 2 columns]"
      ]
     },
     "execution_count": 72,
     "metadata": {},
     "output_type": "execute_result"
    }
   ],
   "source": [
    "y_pred = neural_net.predict(X_test_scaled)\n",
    "y_pred = pd.DataFrame(y_pred)\n",
    "y_test = pd.DataFrame(y_test)\n",
    "diff = pd.concat([y_pred ,y_test], axis = 1)\n",
    "diff = diff.rename(columns = {0 : 'y_pred', 'popularity' : 'y_test' })\n",
    "diff"
   ]
  },
  {
   "cell_type": "markdown",
   "metadata": {},
   "source": [
    "Analyze how well did the model do"
   ]
  },
  {
   "cell_type": "code",
   "execution_count": 73,
   "metadata": {},
   "outputs": [
    {
     "name": "stdout",
     "output_type": "stream",
     "text": [
      "El mse es : 314.7323974874895 y el r2 es : 0.08160040176687289\n"
     ]
    }
   ],
   "source": [
    "from sklearn.metrics import mean_squared_error, r2_score\n",
    "mse = mean_squared_error(diff['y_test'], diff['y_pred'])\n",
    "r_squared = r2_score(diff['y_test'], diff['y_pred'])\n",
    "print(f'El mse es : {mse} y el r2 es : {r_squared}')"
   ]
  },
  {
   "cell_type": "code",
   "execution_count": null,
   "metadata": {},
   "outputs": [],
   "source": []
  }
 ],
 "metadata": {
  "kernelspec": {
   "display_name": "Python 3.7.4 ('base')",
   "language": "python",
   "name": "python3"
  },
  "language_info": {
   "codemirror_mode": {
    "name": "ipython",
    "version": 3
   },
   "file_extension": ".py",
   "mimetype": "text/x-python",
   "name": "python",
   "nbconvert_exporter": "python",
   "pygments_lexer": "ipython3",
   "version": "3.7.4"
  },
  "orig_nbformat": 4,
  "vscode": {
   "interpreter": {
    "hash": "40d3a090f54c6569ab1632332b64b2c03c39dcf918b08424e98f38b5ae0af88f"
   }
  }
 },
 "nbformat": 4,
 "nbformat_minor": 2
}
