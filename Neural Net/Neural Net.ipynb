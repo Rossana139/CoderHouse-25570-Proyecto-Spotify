{
 "cells": [
  {
   "cell_type": "markdown",
   "metadata": {},
   "source": [
    "# Neural Nets"
   ]
  },
  {
   "cell_type": "code",
   "execution_count": 19,
   "metadata": {},
   "outputs": [],
   "source": [
    "import numpy as np \n",
    "import pandas as pd\n",
    "import matplotlib.pyplot as plt\n",
    "import seaborn as sns\n",
    "import math\n",
    "plt.rcParams['axes.facecolor'] = 'white'\n",
    "plt.rcParams[\"figure.facecolor\"] = 'green'"
   ]
  },
  {
   "cell_type": "code",
   "execution_count": 20,
   "metadata": {},
   "outputs": [],
   "source": [
    "train = pd.read_csv('../Base de Datos/trainset-sin-id.csv')\n",
    "test = pd.read_csv('../Base de Datos/testset-sin-id.csv')\n",
    "train = train.drop(['t_mode', 'id'], axis = 1)\n",
    "test = test.drop(['t_mode', 'id'], axis = 1)"
   ]
  },
  {
   "cell_type": "code",
   "execution_count": 21,
   "metadata": {},
   "outputs": [],
   "source": [
    "train = train.drop(train[train['popularity'] > 60].index)\n",
    "test = test.drop(test[test['popularity'] > 60].index)\n"
   ]
  },
  {
   "cell_type": "code",
   "execution_count": 22,
   "metadata": {},
   "outputs": [
    {
     "name": "stdout",
     "output_type": "stream",
     "text": [
      "(51826, 12)\n",
      "(12994, 12)\n"
     ]
    }
   ],
   "source": [
    "print(train.shape)\n",
    "print(test.shape)"
   ]
  },
  {
   "cell_type": "code",
   "execution_count": 23,
   "metadata": {},
   "outputs": [
    {
     "name": "stderr",
     "output_type": "stream",
     "text": [
      "/opt/anaconda3/lib/python3.7/site-packages/seaborn/distributions.py:2551: FutureWarning: `distplot` is a deprecated function and will be removed in a future version. Please adapt your code to use either `displot` (a figure-level function with similar flexibility) or `histplot` (an axes-level function for histograms).\n",
      "  warnings.warn(msg, FutureWarning)\n",
      "/opt/anaconda3/lib/python3.7/site-packages/matplotlib/cbook/__init__.py:1402: FutureWarning: Support for multi-dimensional indexing (e.g. `obj[:, None]`) is deprecated and will be removed in a future version.  Convert to a numpy array before indexing instead.\n",
      "  x[:, None]\n",
      "/opt/anaconda3/lib/python3.7/site-packages/matplotlib/axes/_base.py:276: FutureWarning: Support for multi-dimensional indexing (e.g. `obj[:, None]`) is deprecated and will be removed in a future version.  Convert to a numpy array before indexing instead.\n",
      "  x = x[:, np.newaxis]\n",
      "/opt/anaconda3/lib/python3.7/site-packages/matplotlib/axes/_base.py:278: FutureWarning: Support for multi-dimensional indexing (e.g. `obj[:, None]`) is deprecated and will be removed in a future version.  Convert to a numpy array before indexing instead.\n",
      "  y = y[:, np.newaxis]\n"
     ]
    },
    {
     "data": {
      "text/plain": [
       "<matplotlib.axes._subplots.AxesSubplot at 0x7fcbe22fa2d0>"
      ]
     },
     "execution_count": 23,
     "metadata": {},
     "output_type": "execute_result"
    },
    {
     "data": {
      "image/png": "[encoded data removed]",
      "text/plain": [
       "<Figure size 432x288 with 1 Axes>"
      ]
     },
     "metadata": {},
     "output_type": "display_data"
    }
   ],
   "source": [
    "fig = plt.figure()\n",
    "sns.distplot(train['popularity'])"
   ]
  },
  {
   "cell_type": "markdown",
   "metadata": {},
   "source": [
    "We will use PCA to reduce the dimensionality of the datasets"
   ]
  },
  {
   "cell_type": "code",
   "execution_count": 24,
   "metadata": {},
   "outputs": [
    {
     "name": "stdout",
     "output_type": "stream",
     "text": [
      "[0.74810959 0.23381682 0.01423163 0.00340077]\n"
     ]
    }
   ],
   "source": [
    "from sklearn.decomposition import PCA\n",
    "pca = PCA(n_components = 4)\n",
    "pca.fit(train)\n",
    "print(pca.explained_variance_ratio_)\n",
    "train_reduced = pca.transform(train)"
   ]
  },
  {
   "cell_type": "code",
   "execution_count": 25,
   "metadata": {},
   "outputs": [
    {
     "data": {
      "text/plain": [
       "(51826, 4)"
      ]
     },
     "execution_count": 25,
     "metadata": {},
     "output_type": "execute_result"
    }
   ],
   "source": [
    "train_reduced.shape"
   ]
  },
  {
   "cell_type": "code",
   "execution_count": 26,
   "metadata": {},
   "outputs": [
    {
     "name": "stdout",
     "output_type": "stream",
     "text": [
      "(51826, 12) (12994, 12)\n"
     ]
    }
   ],
   "source": [
    "print(train.shape, test.shape)"
   ]
  },
  {
   "cell_type": "markdown",
   "metadata": {},
   "source": [
    "Generate X_train, X_test, y_train, y_test"
   ]
  },
  {
   "cell_type": "code",
   "execution_count": 27,
   "metadata": {},
   "outputs": [],
   "source": [
    "X_train = train.drop(['popularity', 'ClasePopularidad'], axis = 1)\n",
    "y_train = train['popularity']\n",
    "X_test = test.drop(['popularity', 'ClasePopularidad'], axis = 1)\n",
    "y_test = test['popularity']\n"
   ]
  },
  {
   "cell_type": "code",
   "execution_count": 28,
   "metadata": {},
   "outputs": [
    {
     "data": {
      "text/plain": [
       "0        56.0\n",
       "1        22.0\n",
       "2        22.0\n",
       "3        50.0\n",
       "4        35.0\n",
       "         ... \n",
       "13915    38.0\n",
       "13916    13.0\n",
       "13917    37.0\n",
       "13918    28.0\n",
       "13919    54.0\n",
       "Name: popularity, Length: 12994, dtype: float64"
      ]
     },
     "execution_count": 28,
     "metadata": {},
     "output_type": "execute_result"
    }
   ],
   "source": [
    "y_test"
   ]
  },
  {
   "cell_type": "markdown",
   "metadata": {},
   "source": [
    "Generate X_train_scaled, X_test_scaled.\n",
    "To do that we will import Standard Scaler from sklearn.preprocessing"
   ]
  },
  {
   "cell_type": "code",
   "execution_count": 29,
   "metadata": {},
   "outputs": [],
   "source": [
    "from sklearn.preprocessing import StandardScaler\n",
    "# Instantiate the Object\n",
    "scaler = StandardScaler()\n",
    "# Fit the object to the train dataset\n",
    "scaler.fit(X_train)\n",
    "# Transform the train and test dataset (note we do not fit to the test in order to prevent leakage)\n",
    "X_train_scaled = scaler.transform(X_train)\n",
    "X_test_scaled = scaler.transform(X_test)\n"
   ]
  },
  {
   "cell_type": "code",
   "execution_count": 30,
   "metadata": {},
   "outputs": [],
   "source": [
    "from sklearn.decomposition import PCA\n",
    "pca = PCA(n_components = 4)\n",
    "pca.fit(X_train_scaled)\n",
    "X_train_scaled_pca = pca.transform(X_train_scaled)\n",
    "X_test_scaled_pca = pca.transform(X_test_scaled)"
   ]
  },
  {
   "cell_type": "markdown",
   "metadata": {},
   "source": [
    "## Initialize the Neural Net\n",
    "We are going to use a Multi-Layer-Perceptron here, to check out how it performs. I suspect it will probably do better than earlier methods"
   ]
  },
  {
   "cell_type": "code",
   "execution_count": 31,
   "metadata": {},
   "outputs": [],
   "source": [
    "from sklearn.neural_network import MLPClassifier, MLPRegressor"
   ]
  },
  {
   "cell_type": "markdown",
   "metadata": {},
   "source": [
    "Initialize a neural net object that has 2 16 neuron hidden layers"
   ]
  },
  {
   "cell_type": "code",
   "execution_count": 32,
   "metadata": {},
   "outputs": [],
   "source": [
    "neural_net = MLPRegressor(max_iter = 300, activation = 'relu', hidden_layer_sizes = (16, 10, 12), solver = 'adam', random_state = 42, tol = 0.00005, verbose = True)"
   ]
  },
  {
   "cell_type": "code",
   "execution_count": 37,
   "metadata": {},
   "outputs": [
    {
     "name": "stdout",
     "output_type": "stream",
     "text": [
      "Iteration 1, loss = 324.01377275\n",
      "Iteration 2, loss = 142.27914076\n",
      "Iteration 3, loss = 134.30223148\n",
      "Iteration 4, loss = 130.63032426\n",
      "Iteration 5, loss = 129.16358061\n",
      "Iteration 6, loss = 128.55321906\n",
      "Iteration 7, loss = 128.34632826\n",
      "Iteration 8, loss = 128.16097982\n",
      "Iteration 9, loss = 128.06843232\n",
      "Iteration 10, loss = 127.96716663\n",
      "Iteration 11, loss = 127.87301699\n",
      "Iteration 12, loss = 127.79772688\n",
      "Iteration 13, loss = 127.60755427\n",
      "Iteration 14, loss = 127.53563956\n",
      "Iteration 15, loss = 127.40118005\n",
      "Iteration 16, loss = 127.38367001\n",
      "Iteration 17, loss = 127.26370817\n",
      "Iteration 18, loss = 127.20629308\n",
      "Iteration 19, loss = 127.21072917\n",
      "Iteration 20, loss = 127.09931215\n",
      "Iteration 21, loss = 127.11570655\n",
      "Iteration 22, loss = 127.01849526\n",
      "Iteration 23, loss = 126.99420354\n",
      "Iteration 24, loss = 127.00080729\n",
      "Iteration 25, loss = 126.90809107\n",
      "Iteration 26, loss = 126.92736664\n",
      "Iteration 27, loss = 126.85606110\n",
      "Iteration 28, loss = 126.89211773\n",
      "Iteration 29, loss = 126.81702829\n",
      "Iteration 30, loss = 126.88132355\n",
      "Iteration 31, loss = 126.82934461\n",
      "Iteration 32, loss = 126.83583777\n",
      "Iteration 33, loss = 126.78179430\n",
      "Iteration 34, loss = 126.78123685\n",
      "Iteration 35, loss = 126.81209016\n",
      "Iteration 36, loss = 126.77403920\n",
      "Iteration 37, loss = 126.74317017\n",
      "Iteration 38, loss = 126.77322665\n",
      "Iteration 39, loss = 126.73882479\n",
      "Iteration 40, loss = 126.82681808\n",
      "Iteration 41, loss = 126.74549040\n",
      "Iteration 42, loss = 126.73530466\n",
      "Iteration 43, loss = 126.73184618\n",
      "Iteration 44, loss = 126.70059749\n",
      "Iteration 45, loss = 126.71817317\n",
      "Iteration 46, loss = 126.68700971\n",
      "Iteration 47, loss = 126.69238544\n",
      "Iteration 48, loss = 126.74234246\n",
      "Iteration 49, loss = 126.65202539\n",
      "Iteration 50, loss = 126.70238950\n",
      "Iteration 51, loss = 126.68572318\n",
      "Iteration 52, loss = 126.67828249\n",
      "Iteration 53, loss = 126.66203158\n",
      "Iteration 54, loss = 126.70026038\n",
      "Iteration 55, loss = 126.62712859\n",
      "Iteration 56, loss = 126.68946793\n",
      "Iteration 57, loss = 126.65919219\n",
      "Iteration 58, loss = 126.66495264\n",
      "Iteration 59, loss = 126.67976361\n",
      "Iteration 60, loss = 126.68688369\n",
      "Iteration 61, loss = 126.62551555\n",
      "Iteration 62, loss = 126.65634871\n",
      "Iteration 63, loss = 126.68135809\n",
      "Iteration 64, loss = 126.67489813\n",
      "Iteration 65, loss = 126.63814898\n",
      "Iteration 66, loss = 126.63048049\n",
      "Iteration 67, loss = 126.60172160\n",
      "Iteration 68, loss = 126.61894223\n",
      "Iteration 69, loss = 126.66271293\n",
      "Iteration 70, loss = 126.64168401\n",
      "Iteration 71, loss = 126.61030748\n",
      "Iteration 72, loss = 126.58190800\n",
      "Iteration 73, loss = 126.62840160\n",
      "Iteration 74, loss = 126.62518283\n",
      "Iteration 75, loss = 126.59796046\n",
      "Iteration 76, loss = 126.60741333\n",
      "Iteration 77, loss = 126.59192390\n",
      "Iteration 78, loss = 126.62133344\n",
      "Iteration 79, loss = 126.62419223\n",
      "Iteration 80, loss = 126.57931864\n",
      "Iteration 81, loss = 126.60262264\n",
      "Iteration 82, loss = 126.55289857\n",
      "Iteration 83, loss = 126.56166887\n",
      "Iteration 84, loss = 126.56907620\n",
      "Iteration 85, loss = 126.59388160\n",
      "Iteration 86, loss = 126.62108072\n",
      "Iteration 87, loss = 126.55787560\n",
      "Iteration 88, loss = 126.53669387\n",
      "Iteration 89, loss = 126.57406332\n",
      "Iteration 90, loss = 126.54728699\n",
      "Iteration 91, loss = 126.51494451\n",
      "Iteration 92, loss = 126.53852983\n",
      "Iteration 93, loss = 126.52930379\n",
      "Iteration 94, loss = 126.53426443\n",
      "Iteration 95, loss = 126.55166640\n",
      "Iteration 96, loss = 126.58041737\n",
      "Iteration 97, loss = 126.51848982\n",
      "Iteration 98, loss = 126.55207465\n",
      "Iteration 99, loss = 126.54407797\n",
      "Iteration 100, loss = 126.54499028\n",
      "Iteration 101, loss = 126.47627111\n",
      "Iteration 102, loss = 126.51880448\n",
      "Iteration 103, loss = 126.52656485\n",
      "Iteration 104, loss = 126.49657485\n",
      "Iteration 105, loss = 126.51075469\n",
      "Iteration 106, loss = 126.48046547\n",
      "Iteration 107, loss = 126.49175080\n",
      "Iteration 108, loss = 126.48667985\n",
      "Iteration 109, loss = 126.49692084\n",
      "Iteration 110, loss = 126.49077250\n",
      "Iteration 111, loss = 126.49682914\n",
      "Iteration 112, loss = 126.53104742\n",
      "Training loss did not improve more than tol=0.000050 for 10 consecutive epochs. Stopping.\n"
     ]
    },
    {
     "data": {
      "text/plain": [
       "MLPRegressor(activation='relu', alpha=0.0001, batch_size='auto', beta_1=0.9,\n",
       "             beta_2=0.999, early_stopping=False, epsilon=1e-08,\n",
       "             hidden_layer_sizes=(16, 10, 12), learning_rate='constant',\n",
       "             learning_rate_init=0.001, max_iter=300, momentum=0.9,\n",
       "             n_iter_no_change=10, nesterovs_momentum=True, power_t=0.5,\n",
       "             random_state=42, shuffle=True, solver='adam', tol=5e-05,\n",
       "             validation_fraction=0.1, verbose=True, warm_start=False)"
      ]
     },
     "execution_count": 37,
     "metadata": {},
     "output_type": "execute_result"
    }
   ],
   "source": [
    "neural_net.fit(X_train_scaled_pca, y_train)"
   ]
  },
  {
   "cell_type": "code",
   "execution_count": 38,
   "metadata": {},
   "outputs": [
    {
     "data": {
      "text/html": [
       "<div>\n",
       "<style scoped>\n",
       "    .dataframe tbody tr th:only-of-type {\n",
       "        vertical-align: middle;\n",
       "    }\n",
       "\n",
       "    .dataframe tbody tr th {\n",
       "        vertical-align: top;\n",
       "    }\n",
       "\n",
       "    .dataframe thead th {\n",
       "        text-align: right;\n",
       "    }\n",
       "</style>\n",
       "<table border=\"1\" class=\"dataframe\">\n",
       "  <thead>\n",
       "    <tr style=\"text-align: right;\">\n",
       "      <th></th>\n",
       "      <th>y_pred</th>\n",
       "      <th>y_test</th>\n",
       "    </tr>\n",
       "  </thead>\n",
       "  <tbody>\n",
       "    <tr>\n",
       "      <th>0</th>\n",
       "      <td>30.579959</td>\n",
       "      <td>56.0</td>\n",
       "    </tr>\n",
       "    <tr>\n",
       "      <th>1</th>\n",
       "      <td>29.693371</td>\n",
       "      <td>22.0</td>\n",
       "    </tr>\n",
       "    <tr>\n",
       "      <th>2</th>\n",
       "      <td>32.002675</td>\n",
       "      <td>22.0</td>\n",
       "    </tr>\n",
       "    <tr>\n",
       "      <th>3</th>\n",
       "      <td>30.866129</td>\n",
       "      <td>50.0</td>\n",
       "    </tr>\n",
       "    <tr>\n",
       "      <th>4</th>\n",
       "      <td>31.227790</td>\n",
       "      <td>35.0</td>\n",
       "    </tr>\n",
       "    <tr>\n",
       "      <th>...</th>\n",
       "      <td>...</td>\n",
       "      <td>...</td>\n",
       "    </tr>\n",
       "    <tr>\n",
       "      <th>13915</th>\n",
       "      <td>29.654579</td>\n",
       "      <td>38.0</td>\n",
       "    </tr>\n",
       "    <tr>\n",
       "      <th>13916</th>\n",
       "      <td>24.031937</td>\n",
       "      <td>13.0</td>\n",
       "    </tr>\n",
       "    <tr>\n",
       "      <th>13917</th>\n",
       "      <td>24.195735</td>\n",
       "      <td>37.0</td>\n",
       "    </tr>\n",
       "    <tr>\n",
       "      <th>13918</th>\n",
       "      <td>29.552902</td>\n",
       "      <td>28.0</td>\n",
       "    </tr>\n",
       "    <tr>\n",
       "      <th>13919</th>\n",
       "      <td>25.905207</td>\n",
       "      <td>54.0</td>\n",
       "    </tr>\n",
       "  </tbody>\n",
       "</table>\n",
       "<p>12994 rows × 2 columns</p>\n",
       "</div>"
      ],
      "text/plain": [
       "          y_pred  y_test\n",
       "0      30.579959    56.0\n",
       "1      29.693371    22.0\n",
       "2      32.002675    22.0\n",
       "3      30.866129    50.0\n",
       "4      31.227790    35.0\n",
       "...          ...     ...\n",
       "13915  29.654579    38.0\n",
       "13916  24.031937    13.0\n",
       "13917  24.195735    37.0\n",
       "13918  29.552902    28.0\n",
       "13919  25.905207    54.0\n",
       "\n",
       "[12994 rows x 2 columns]"
      ]
     },
     "execution_count": 38,
     "metadata": {},
     "output_type": "execute_result"
    }
   ],
   "source": [
    "y_pred = neural_net.predict(X_test_scaled_pca)\n",
    "y_pred = pd.DataFrame(y_pred, index = y_test.index)\n",
    "y_test = pd.DataFrame(y_test)\n",
    "diff = pd.concat([y_pred ,y_test], axis = 1)\n",
    "diff = diff.rename(columns = {0 : 'y_pred', 'popularity' : 'y_test' })\n",
    "diff"
   ]
  },
  {
   "cell_type": "code",
   "execution_count": 39,
   "metadata": {},
   "outputs": [
    {
     "name": "stdout",
     "output_type": "stream",
     "text": [
      "El mse es : 255.89100674148165 y el r2 es : 0.040302056308532674\n"
     ]
    }
   ],
   "source": [
    "from sklearn.metrics import mean_squared_error, r2_score\n",
    "mse = mean_squared_error(diff['y_test'], diff['y_pred'])\n",
    "r_squared = r2_score(diff['y_test'], diff['y_pred'])\n",
    "print(f'El mse es : {mse} y el r2 es : {r_squared}')"
   ]
  },
  {
   "cell_type": "code",
   "execution_count": 33,
   "metadata": {},
   "outputs": [
    {
     "name": "stdout",
     "output_type": "stream",
     "text": [
      "Iteration 1, loss = 314.64135448\n",
      "Iteration 2, loss = 137.29392796\n",
      "Iteration 3, loss = 132.72951718\n",
      "Iteration 4, loss = 130.32806825\n",
      "Iteration 5, loss = 128.84233110\n",
      "Iteration 6, loss = 127.74184492\n",
      "Iteration 7, loss = 126.95311098\n",
      "Iteration 8, loss = 126.33790405\n",
      "Iteration 9, loss = 125.83762033\n",
      "Iteration 10, loss = 125.39239811\n",
      "Iteration 11, loss = 125.04434628\n",
      "Iteration 12, loss = 124.60963985\n",
      "Iteration 13, loss = 124.41985845\n",
      "Iteration 14, loss = 124.10605669\n",
      "Iteration 15, loss = 123.86210710\n",
      "Iteration 16, loss = 123.73990224\n",
      "Iteration 17, loss = 123.59760800\n",
      "Iteration 18, loss = 123.51475766\n",
      "Iteration 19, loss = 123.33209723\n",
      "Iteration 20, loss = 123.25254589\n",
      "Iteration 21, loss = 123.16326160\n",
      "Iteration 22, loss = 123.05064053\n",
      "Iteration 23, loss = 122.95698498\n",
      "Iteration 24, loss = 122.88474446\n",
      "Iteration 25, loss = 122.81471865\n",
      "Iteration 26, loss = 122.81124254\n",
      "Iteration 27, loss = 122.64886161\n",
      "Iteration 28, loss = 122.66768848\n",
      "Iteration 29, loss = 122.57739355\n",
      "Iteration 30, loss = 122.48641204\n",
      "Iteration 31, loss = 122.45127629\n",
      "Iteration 32, loss = 122.38038663\n",
      "Iteration 33, loss = 122.28452445\n",
      "Iteration 34, loss = 122.22648398\n",
      "Iteration 35, loss = 122.19953919\n",
      "Iteration 36, loss = 122.17287514\n",
      "Iteration 37, loss = 122.13634746\n",
      "Iteration 38, loss = 122.04901145\n",
      "Iteration 39, loss = 122.00684858\n",
      "Iteration 40, loss = 122.01366481\n",
      "Iteration 41, loss = 121.99220594\n",
      "Iteration 42, loss = 122.06528848\n",
      "Iteration 43, loss = 121.96016909\n",
      "Iteration 44, loss = 121.93461093\n",
      "Iteration 45, loss = 122.00773949\n",
      "Iteration 46, loss = 121.91010264\n",
      "Iteration 47, loss = 121.88031623\n",
      "Iteration 48, loss = 121.79609723\n",
      "Iteration 49, loss = 121.84658018\n",
      "Iteration 50, loss = 121.75731877\n",
      "Iteration 51, loss = 121.70468478\n",
      "Iteration 52, loss = 121.78640994\n",
      "Iteration 53, loss = 121.84348971\n",
      "Iteration 54, loss = 121.68216606\n",
      "Iteration 55, loss = 121.67020367\n",
      "Iteration 56, loss = 121.63811276\n",
      "Iteration 57, loss = 121.58770889\n",
      "Iteration 58, loss = 121.54623056\n",
      "Iteration 59, loss = 121.59204930\n",
      "Iteration 60, loss = 121.54039684\n",
      "Iteration 61, loss = 121.50971460\n",
      "Iteration 62, loss = 121.56494154\n",
      "Iteration 63, loss = 121.41619584\n",
      "Iteration 64, loss = 121.49838774\n",
      "Iteration 65, loss = 121.42950777\n",
      "Iteration 66, loss = 121.40994543\n",
      "Iteration 67, loss = 121.39486749\n",
      "Iteration 68, loss = 121.33056808\n",
      "Iteration 69, loss = 121.40949759\n",
      "Iteration 70, loss = 121.34797302\n",
      "Iteration 71, loss = 121.24207961\n",
      "Iteration 72, loss = 121.30132910\n",
      "Iteration 73, loss = 121.25613666\n",
      "Iteration 74, loss = 121.14323301\n",
      "Iteration 75, loss = 121.19185032\n",
      "Iteration 76, loss = 121.17942777\n",
      "Iteration 77, loss = 121.18030981\n",
      "Iteration 78, loss = 121.14699799\n",
      "Iteration 79, loss = 121.08417106\n",
      "Iteration 80, loss = 121.05501819\n",
      "Iteration 81, loss = 121.10090170\n",
      "Iteration 82, loss = 121.02736489\n",
      "Iteration 83, loss = 121.03960120\n",
      "Iteration 84, loss = 120.98007550\n",
      "Iteration 85, loss = 121.01605551\n",
      "Iteration 86, loss = 120.93697009\n",
      "Iteration 87, loss = 120.98343520\n",
      "Iteration 88, loss = 120.90685508\n",
      "Iteration 89, loss = 120.93099991\n",
      "Iteration 90, loss = 120.93398161\n",
      "Iteration 91, loss = 120.91998034\n",
      "Iteration 92, loss = 120.81650614\n",
      "Iteration 93, loss = 120.81230237\n",
      "Iteration 94, loss = 120.81675976\n",
      "Iteration 95, loss = 120.82360283\n",
      "Iteration 96, loss = 120.80931450\n",
      "Iteration 97, loss = 120.81835880\n",
      "Iteration 98, loss = 120.89623683\n",
      "Iteration 99, loss = 120.81467672\n",
      "Iteration 100, loss = 120.75432105\n",
      "Iteration 101, loss = 120.77132664\n",
      "Iteration 102, loss = 120.68419622\n",
      "Iteration 103, loss = 120.77446830\n",
      "Iteration 104, loss = 120.69203846\n",
      "Iteration 105, loss = 120.61484829\n",
      "Iteration 106, loss = 120.65839815\n",
      "Iteration 107, loss = 120.67813372\n",
      "Iteration 108, loss = 120.63315098\n",
      "Iteration 109, loss = 120.68596872\n",
      "Iteration 110, loss = 120.58096795\n",
      "Iteration 111, loss = 120.61570327\n",
      "Iteration 112, loss = 120.54159542\n",
      "Iteration 113, loss = 120.54611843\n",
      "Iteration 114, loss = 120.55757476\n",
      "Iteration 115, loss = 120.66315408\n",
      "Iteration 116, loss = 120.52616882\n",
      "Iteration 117, loss = 120.50102268\n",
      "Iteration 118, loss = 120.50953129\n",
      "Iteration 119, loss = 120.54664499\n",
      "Iteration 120, loss = 120.44807779\n",
      "Iteration 121, loss = 120.46267596\n",
      "Iteration 122, loss = 120.47214900\n",
      "Iteration 123, loss = 120.42805036\n",
      "Iteration 124, loss = 120.49109060\n",
      "Iteration 125, loss = 120.52107528\n",
      "Iteration 126, loss = 120.47940450\n",
      "Iteration 127, loss = 120.43198795\n",
      "Iteration 128, loss = 120.42791033\n",
      "Iteration 129, loss = 120.47925908\n",
      "Iteration 130, loss = 120.37931269\n",
      "Iteration 131, loss = 120.44801098\n",
      "Iteration 132, loss = 120.40462396\n",
      "Iteration 133, loss = 120.42857082\n",
      "Iteration 134, loss = 120.41891828\n",
      "Iteration 135, loss = 120.44611687\n",
      "Iteration 136, loss = 120.34168394\n",
      "Iteration 137, loss = 120.45609631\n",
      "Iteration 138, loss = 120.42967222\n",
      "Iteration 139, loss = 120.38763768\n",
      "Iteration 140, loss = 120.40453973\n",
      "Iteration 141, loss = 120.38753139\n",
      "Iteration 142, loss = 120.40483066\n",
      "Iteration 143, loss = 120.37364873\n",
      "Iteration 144, loss = 120.35593379\n",
      "Iteration 145, loss = 120.43071607\n",
      "Iteration 146, loss = 120.45559535\n",
      "Iteration 147, loss = 120.36859125\n",
      "Training loss did not improve more than tol=0.000050 for 10 consecutive epochs. Stopping.\n"
     ]
    },
    {
     "data": {
      "text/plain": [
       "MLPRegressor(activation='relu', alpha=0.0001, batch_size='auto', beta_1=0.9,\n",
       "             beta_2=0.999, early_stopping=False, epsilon=1e-08,\n",
       "             hidden_layer_sizes=(16, 10, 12), learning_rate='constant',\n",
       "             learning_rate_init=0.001, max_iter=300, momentum=0.9,\n",
       "             n_iter_no_change=10, nesterovs_momentum=True, power_t=0.5,\n",
       "             random_state=42, shuffle=True, solver='adam', tol=5e-05,\n",
       "             validation_fraction=0.1, verbose=True, warm_start=False)"
      ]
     },
     "execution_count": 33,
     "metadata": {},
     "output_type": "execute_result"
    }
   ],
   "source": [
    "neural_net.fit(X_train_scaled, y_train)"
   ]
  },
  {
   "cell_type": "code",
   "execution_count": 34,
   "metadata": {},
   "outputs": [
    {
     "data": {
      "text/html": [
       "<div>\n",
       "<style scoped>\n",
       "    .dataframe tbody tr th:only-of-type {\n",
       "        vertical-align: middle;\n",
       "    }\n",
       "\n",
       "    .dataframe tbody tr th {\n",
       "        vertical-align: top;\n",
       "    }\n",
       "\n",
       "    .dataframe thead th {\n",
       "        text-align: right;\n",
       "    }\n",
       "</style>\n",
       "<table border=\"1\" class=\"dataframe\">\n",
       "  <thead>\n",
       "    <tr style=\"text-align: right;\">\n",
       "      <th></th>\n",
       "      <th>y_pred</th>\n",
       "      <th>y_test</th>\n",
       "    </tr>\n",
       "  </thead>\n",
       "  <tbody>\n",
       "    <tr>\n",
       "      <th>0</th>\n",
       "      <td>27.229310</td>\n",
       "      <td>56.0</td>\n",
       "    </tr>\n",
       "    <tr>\n",
       "      <th>1</th>\n",
       "      <td>18.452741</td>\n",
       "      <td>22.0</td>\n",
       "    </tr>\n",
       "    <tr>\n",
       "      <th>2</th>\n",
       "      <td>32.256980</td>\n",
       "      <td>22.0</td>\n",
       "    </tr>\n",
       "    <tr>\n",
       "      <th>3</th>\n",
       "      <td>32.861206</td>\n",
       "      <td>50.0</td>\n",
       "    </tr>\n",
       "    <tr>\n",
       "      <th>4</th>\n",
       "      <td>32.107890</td>\n",
       "      <td>35.0</td>\n",
       "    </tr>\n",
       "    <tr>\n",
       "      <th>...</th>\n",
       "      <td>...</td>\n",
       "      <td>...</td>\n",
       "    </tr>\n",
       "    <tr>\n",
       "      <th>13915</th>\n",
       "      <td>28.756955</td>\n",
       "      <td>38.0</td>\n",
       "    </tr>\n",
       "    <tr>\n",
       "      <th>13916</th>\n",
       "      <td>21.681878</td>\n",
       "      <td>13.0</td>\n",
       "    </tr>\n",
       "    <tr>\n",
       "      <th>13917</th>\n",
       "      <td>24.673371</td>\n",
       "      <td>37.0</td>\n",
       "    </tr>\n",
       "    <tr>\n",
       "      <th>13918</th>\n",
       "      <td>25.451575</td>\n",
       "      <td>28.0</td>\n",
       "    </tr>\n",
       "    <tr>\n",
       "      <th>13919</th>\n",
       "      <td>24.875920</td>\n",
       "      <td>54.0</td>\n",
       "    </tr>\n",
       "  </tbody>\n",
       "</table>\n",
       "<p>12994 rows × 2 columns</p>\n",
       "</div>"
      ],
      "text/plain": [
       "          y_pred  y_test\n",
       "0      27.229310    56.0\n",
       "1      18.452741    22.0\n",
       "2      32.256980    22.0\n",
       "3      32.861206    50.0\n",
       "4      32.107890    35.0\n",
       "...          ...     ...\n",
       "13915  28.756955    38.0\n",
       "13916  21.681878    13.0\n",
       "13917  24.673371    37.0\n",
       "13918  25.451575    28.0\n",
       "13919  24.875920    54.0\n",
       "\n",
       "[12994 rows x 2 columns]"
      ]
     },
     "execution_count": 34,
     "metadata": {},
     "output_type": "execute_result"
    }
   ],
   "source": [
    "y_pred = neural_net.predict(X_test_scaled)\n",
    "y_pred = pd.DataFrame(y_pred, index = y_test.index)\n",
    "y_test = pd.DataFrame(y_test)\n",
    "diff = pd.concat([y_pred ,y_test], axis = 1)\n",
    "diff = diff.rename(columns = {0 : 'y_pred', 'popularity' : 'y_test' })\n",
    "diff"
   ]
  },
  {
   "cell_type": "code",
   "execution_count": 35,
   "metadata": {},
   "outputs": [
    {
     "name": "stderr",
     "output_type": "stream",
     "text": [
      "/opt/anaconda3/lib/python3.7/site-packages/seaborn/distributions.py:2551: FutureWarning: `distplot` is a deprecated function and will be removed in a future version. Please adapt your code to use either `displot` (a figure-level function with similar flexibility) or `histplot` (an axes-level function for histograms).\n",
      "  warnings.warn(msg, FutureWarning)\n",
      "/opt/anaconda3/lib/python3.7/site-packages/matplotlib/cbook/__init__.py:1402: FutureWarning: Support for multi-dimensional indexing (e.g. `obj[:, None]`) is deprecated and will be removed in a future version.  Convert to a numpy array before indexing instead.\n",
      "  x[:, None]\n",
      "/opt/anaconda3/lib/python3.7/site-packages/matplotlib/axes/_base.py:276: FutureWarning: Support for multi-dimensional indexing (e.g. `obj[:, None]`) is deprecated and will be removed in a future version.  Convert to a numpy array before indexing instead.\n",
      "  x = x[:, np.newaxis]\n",
      "/opt/anaconda3/lib/python3.7/site-packages/matplotlib/axes/_base.py:278: FutureWarning: Support for multi-dimensional indexing (e.g. `obj[:, None]`) is deprecated and will be removed in a future version.  Convert to a numpy array before indexing instead.\n",
      "  y = y[:, np.newaxis]\n"
     ]
    },
    {
     "data": {
      "text/plain": [
       "<matplotlib.axes._subplots.AxesSubplot at 0x7fcbe55a6150>"
      ]
     },
     "execution_count": 35,
     "metadata": {},
     "output_type": "execute_result"
    },
    {
     "data": {
      "image/png": "[encoded data removed]",
      "text/plain": [
       "<Figure size 432x288 with 1 Axes>"
      ]
     },
     "metadata": {},
     "output_type": "display_data"
    }
   ],
   "source": [
    "fig = plt.figure()\n",
    "sns.distplot(y_test)"
   ]
  },
  {
   "cell_type": "markdown",
   "metadata": {},
   "source": [
    "Analyze how well did the model do"
   ]
  },
  {
   "cell_type": "code",
   "execution_count": 36,
   "metadata": {},
   "outputs": [
    {
     "name": "stdout",
     "output_type": "stream",
     "text": [
      "El mse es : 246.44472350129368 y el r2 es : 0.07572955615144117\n"
     ]
    }
   ],
   "source": [
    "from sklearn.metrics import mean_squared_error, r2_score\n",
    "mse = mean_squared_error(diff['y_test'], diff['y_pred'])\n",
    "r_squared = r2_score(diff['y_test'], diff['y_pred'])\n",
    "print(f'El mse es : {mse} y el r2 es : {r_squared}')"
   ]
  },
  {
   "cell_type": "code",
   "execution_count": null,
   "metadata": {},
   "outputs": [],
   "source": []
  }
 ],
 "metadata": {
  "kernelspec": {
   "display_name": "Python 3.7.4 ('base')",
   "language": "python",
   "name": "python3"
  },
  "language_info": {
   "codemirror_mode": {
    "name": "ipython",
    "version": 3
   },
   "file_extension": ".py",
   "mimetype": "text/x-python",
   "name": "python",
   "nbconvert_exporter": "python",
   "pygments_lexer": "ipython3",
   "version": "3.7.4"
  },
  "orig_nbformat": 4,
  "vscode": {
   "interpreter": {
    "hash": "40d3a090f54c6569ab1632332b64b2c03c39dcf918b08424e98f38b5ae0af88f"
   }
  }
 },
 "nbformat": 4,
 "nbformat_minor": 2
}
