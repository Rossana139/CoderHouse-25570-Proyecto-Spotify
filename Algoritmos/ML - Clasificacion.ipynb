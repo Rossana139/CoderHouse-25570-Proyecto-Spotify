{
 "cells": [
  {
   "cell_type": "markdown",
   "id": "6221a7ff",
   "metadata": {
    "id": "6221a7ff"
   },
   "source": [
    "# Algoritmos de Clasificacion "
   ]
  },
  {
   "cell_type": "code",
   "execution_count": 1,
   "id": "dc0b5e5a",
   "metadata": {
    "id": "dc0b5e5a",
    "outputId": "0498c02b-94c0-4dfc-8071-ea109e16c4df"
   },
   "outputs": [
    {
     "name": "stdout",
     "output_type": "stream",
     "text": [
      "¡Librerías importadas con éxito!\n"
     ]
    }
   ],
   "source": [
    "#Import\n",
    "\n",
    "import numpy as np\n",
    "import pandas as pd\n",
    "import matplotlib.pyplot as plt\n",
    "%matplotlib inline\n",
    "import seaborn as sns\n",
    "import math\n",
    "\n",
    "from sklearn.model_selection import train_test_split\n",
    "from sklearn import tree\n",
    "from sklearn.ensemble import RandomForestClassifier\n",
    "from sklearn.svm import SVC\n",
    "\n",
    "print('¡Librerías importadas con éxito!')"
   ]
  },
  {
   "cell_type": "code",
   "execution_count": 2,
   "id": "775218df",
   "metadata": {
    "id": "775218df",
    "outputId": "fd9aa6fc-a464-4111-8cdf-6653b6567167"
   },
   "outputs": [
    {
     "data": {
      "text/html": [
       "<div>\n",
       "<style scoped>\n",
       "    .dataframe tbody tr th:only-of-type {\n",
       "        vertical-align: middle;\n",
       "    }\n",
       "\n",
       "    .dataframe tbody tr th {\n",
       "        vertical-align: top;\n",
       "    }\n",
       "\n",
       "    .dataframe thead th {\n",
       "        text-align: right;\n",
       "    }\n",
       "</style>\n",
       "<table border=\"1\" class=\"dataframe\">\n",
       "  <thead>\n",
       "    <tr style=\"text-align: right;\">\n",
       "      <th></th>\n",
       "      <th>name</th>\n",
       "      <th>release_date</th>\n",
       "      <th>artists</th>\n",
       "      <th>total_tracks</th>\n",
       "      <th>t_name0</th>\n",
       "      <th>t_key0</th>\n",
       "      <th>t_mode0</th>\n",
       "      <th>t_dur0</th>\n",
       "      <th>t_dance0</th>\n",
       "      <th>t_energy0</th>\n",
       "      <th>t_speech0</th>\n",
       "      <th>t_acous0</th>\n",
       "      <th>t_ins0</th>\n",
       "      <th>t_live0</th>\n",
       "      <th>t_val0</th>\n",
       "      <th>t_tempo0</th>\n",
       "      <th>t_sig0</th>\n",
       "      <th>popularity</th>\n",
       "      <th>ClasePopularidad</th>\n",
       "    </tr>\n",
       "    <tr>\n",
       "      <th>id</th>\n",
       "      <th></th>\n",
       "      <th></th>\n",
       "      <th></th>\n",
       "      <th></th>\n",
       "      <th></th>\n",
       "      <th></th>\n",
       "      <th></th>\n",
       "      <th></th>\n",
       "      <th></th>\n",
       "      <th></th>\n",
       "      <th></th>\n",
       "      <th></th>\n",
       "      <th></th>\n",
       "      <th></th>\n",
       "      <th></th>\n",
       "      <th></th>\n",
       "      <th></th>\n",
       "      <th></th>\n",
       "      <th></th>\n",
       "    </tr>\n",
       "  </thead>\n",
       "  <tbody>\n",
       "    <tr>\n",
       "      <th>0</th>\n",
       "      <td>Ya Solo Eres Mi Ex</td>\n",
       "      <td>2021-09-09</td>\n",
       "      <td>La Adictiva Banda San José de Mesillas,</td>\n",
       "      <td>7</td>\n",
       "      <td>Ya Solo Eres Mi Ex</td>\n",
       "      <td>7.0</td>\n",
       "      <td>1.0</td>\n",
       "      <td>192284.000</td>\n",
       "      <td>0.537</td>\n",
       "      <td>0.459</td>\n",
       "      <td>0.049</td>\n",
       "      <td>0.490</td>\n",
       "      <td>0.000</td>\n",
       "      <td>0.091</td>\n",
       "      <td>0.779</td>\n",
       "      <td>133.243</td>\n",
       "      <td>3.333</td>\n",
       "      <td>51.0</td>\n",
       "      <td>3</td>\n",
       "    </tr>\n",
       "    <tr>\n",
       "      <th>1</th>\n",
       "      <td>Nibiru</td>\n",
       "      <td>2019-11-29</td>\n",
       "      <td>Ozuna,</td>\n",
       "      <td>18</td>\n",
       "      <td>Nibiru</td>\n",
       "      <td>10.0</td>\n",
       "      <td>0.0</td>\n",
       "      <td>195199.667</td>\n",
       "      <td>0.779</td>\n",
       "      <td>0.658</td>\n",
       "      <td>0.202</td>\n",
       "      <td>0.109</td>\n",
       "      <td>0.000</td>\n",
       "      <td>0.114</td>\n",
       "      <td>0.413</td>\n",
       "      <td>139.028</td>\n",
       "      <td>4.000</td>\n",
       "      <td>67.0</td>\n",
       "      <td>4</td>\n",
       "    </tr>\n",
       "    <tr>\n",
       "      <th>2</th>\n",
       "      <td>DAMN.</td>\n",
       "      <td>2017-04-14</td>\n",
       "      <td>Kendrick Lamar,</td>\n",
       "      <td>14</td>\n",
       "      <td>BLOOD.</td>\n",
       "      <td>8.0</td>\n",
       "      <td>0.0</td>\n",
       "      <td>154768.333</td>\n",
       "      <td>0.555</td>\n",
       "      <td>0.487</td>\n",
       "      <td>0.273</td>\n",
       "      <td>0.241</td>\n",
       "      <td>0.029</td>\n",
       "      <td>0.287</td>\n",
       "      <td>0.521</td>\n",
       "      <td>122.269</td>\n",
       "      <td>4.000</td>\n",
       "      <td>81.0</td>\n",
       "      <td>5</td>\n",
       "    </tr>\n",
       "    <tr>\n",
       "      <th>3</th>\n",
       "      <td>Did I Shave My Legs For This?</td>\n",
       "      <td>1996-01-01</td>\n",
       "      <td>Deana Carter,</td>\n",
       "      <td>11</td>\n",
       "      <td>I've Loved Enough To Know</td>\n",
       "      <td>8.0</td>\n",
       "      <td>1.0</td>\n",
       "      <td>203866.333</td>\n",
       "      <td>0.628</td>\n",
       "      <td>0.585</td>\n",
       "      <td>0.027</td>\n",
       "      <td>0.333</td>\n",
       "      <td>0.000</td>\n",
       "      <td>0.203</td>\n",
       "      <td>0.556</td>\n",
       "      <td>114.783</td>\n",
       "      <td>4.000</td>\n",
       "      <td>53.0</td>\n",
       "      <td>3</td>\n",
       "    </tr>\n",
       "    <tr>\n",
       "      <th>4</th>\n",
       "      <td>glisten</td>\n",
       "      <td>2018-05-04</td>\n",
       "      <td>Jeremy Zucker,</td>\n",
       "      <td>4</td>\n",
       "      <td>all the kids are depressed</td>\n",
       "      <td>9.0</td>\n",
       "      <td>1.0</td>\n",
       "      <td>140693.000</td>\n",
       "      <td>0.638</td>\n",
       "      <td>0.302</td>\n",
       "      <td>0.072</td>\n",
       "      <td>0.711</td>\n",
       "      <td>0.000</td>\n",
       "      <td>0.271</td>\n",
       "      <td>0.533</td>\n",
       "      <td>116.460</td>\n",
       "      <td>4.000</td>\n",
       "      <td>70.0</td>\n",
       "      <td>4</td>\n",
       "    </tr>\n",
       "  </tbody>\n",
       "</table>\n",
       "</div>"
      ],
      "text/plain": [
       "                             name release_date  \\\n",
       "id                                               \n",
       "0              Ya Solo Eres Mi Ex   2021-09-09   \n",
       "1                          Nibiru   2019-11-29   \n",
       "2                           DAMN.   2017-04-14   \n",
       "3   Did I Shave My Legs For This?   1996-01-01   \n",
       "4                         glisten   2018-05-04   \n",
       "\n",
       "                                     artists  total_tracks  \\\n",
       "id                                                           \n",
       "0   La Adictiva Banda San José de Mesillas,              7   \n",
       "1                                    Ozuna,             18   \n",
       "2                           Kendrick Lamar,             14   \n",
       "3                             Deana Carter,             11   \n",
       "4                            Jeremy Zucker,              4   \n",
       "\n",
       "                       t_name0  t_key0  t_mode0      t_dur0  t_dance0  \\\n",
       "id                                                                      \n",
       "0           Ya Solo Eres Mi Ex     7.0      1.0  192284.000     0.537   \n",
       "1                       Nibiru    10.0      0.0  195199.667     0.779   \n",
       "2                       BLOOD.     8.0      0.0  154768.333     0.555   \n",
       "3    I've Loved Enough To Know     8.0      1.0  203866.333     0.628   \n",
       "4   all the kids are depressed     9.0      1.0  140693.000     0.638   \n",
       "\n",
       "    t_energy0  t_speech0  t_acous0  t_ins0  t_live0  t_val0  t_tempo0  t_sig0  \\\n",
       "id                                                                              \n",
       "0       0.459      0.049     0.490   0.000    0.091   0.779   133.243   3.333   \n",
       "1       0.658      0.202     0.109   0.000    0.114   0.413   139.028   4.000   \n",
       "2       0.487      0.273     0.241   0.029    0.287   0.521   122.269   4.000   \n",
       "3       0.585      0.027     0.333   0.000    0.203   0.556   114.783   4.000   \n",
       "4       0.302      0.072     0.711   0.000    0.271   0.533   116.460   4.000   \n",
       "\n",
       "    popularity  ClasePopularidad  \n",
       "id                                \n",
       "0         51.0                 3  \n",
       "1         67.0                 4  \n",
       "2         81.0                 5  \n",
       "3         53.0                 3  \n",
       "4         70.0                 4  "
      ]
     },
     "execution_count": 2,
     "metadata": {},
     "output_type": "execute_result"
    }
   ],
   "source": [
    "#Abrimos el archivo con los datos de Training Limpios\n",
    "df = pd.read_csv('data_cleanAlgoritmo.csv')\n",
    "df = df.set_index('id')\n",
    "df.head()"
   ]
  },
  {
   "cell_type": "code",
   "execution_count": 3,
   "id": "c7fe60ed",
   "metadata": {
    "id": "c7fe60ed",
    "outputId": "f32374d5-0b31-4bd7-a107-5d4a4acccdf3"
   },
   "outputs": [
    {
     "data": {
      "text/plain": [
       "(72357, 19)"
      ]
     },
     "execution_count": 3,
     "metadata": {},
     "output_type": "execute_result"
    }
   ],
   "source": [
    "df.shape"
   ]
  },
  {
   "cell_type": "code",
   "execution_count": 4,
   "id": "d48086d8",
   "metadata": {
    "id": "d48086d8",
    "outputId": "5cb50c7a-0b2b-4a60-a57c-c9ea4c4a886a"
   },
   "outputs": [
    {
     "data": {
      "text/plain": [
       "name                0\n",
       "release_date        0\n",
       "artists             0\n",
       "total_tracks        0\n",
       "t_name0             0\n",
       "t_key0              0\n",
       "t_mode0             0\n",
       "t_dur0              0\n",
       "t_dance0            0\n",
       "t_energy0           0\n",
       "t_speech0           0\n",
       "t_acous0            0\n",
       "t_ins0              0\n",
       "t_live0             0\n",
       "t_val0              0\n",
       "t_tempo0            0\n",
       "t_sig0              0\n",
       "popularity          0\n",
       "ClasePopularidad    0\n",
       "dtype: int64"
      ]
     },
     "execution_count": 4,
     "metadata": {},
     "output_type": "execute_result"
    }
   ],
   "source": [
    "#Verificamos que no hay valores nulos \n",
    "df.isnull().sum()"
   ]
  },
  {
   "cell_type": "markdown",
   "id": "ca82f809",
   "metadata": {},
   "source": [
    "**Entrenamiento como Problema de Clasificacion**\n",
    "\n",
    "En este caso nuestro target es la variable creada **ClasePopularidad** que tiene los 5 niveles de popularidad definidos (ver Notebook de Limpieza de Datos).\n",
    "\n",
    "Veamos la proporcion de cada clase, para ver que tan desbalanceada esta la variable target\n"
   ]
  },
  {
   "cell_type": "code",
   "execution_count": 5,
   "id": "cfcc7d90",
   "metadata": {},
   "outputs": [
    {
     "data": {
      "text/plain": [
       "2    0.358860\n",
       "1    0.325898\n",
       "3    0.250591\n",
       "4    0.063214\n",
       "5    0.001437\n",
       "Name: ClasePopularidad, dtype: float64"
      ]
     },
     "execution_count": 5,
     "metadata": {},
     "output_type": "execute_result"
    }
   ],
   "source": [
    "df['ClasePopularidad'].value_counts(normalize = True)"
   ]
  },
  {
   "cell_type": "markdown",
   "id": "9f8926cd",
   "metadata": {},
   "source": [
    "Vemos que las clases 1,2 y 3 resultan en el 92% de todos los datos, mientras que las clases 4 y 5 estan reducidas al 8%. Por lo que los datos estan muy desbalanceados. "
   ]
  },
  {
   "cell_type": "markdown",
   "id": "aa32b43f",
   "metadata": {},
   "source": [
    "## 1- Arbol de Decision"
   ]
  },
  {
   "cell_type": "code",
   "execution_count": 6,
   "id": "851952ff",
   "metadata": {
    "id": "851952ff"
   },
   "outputs": [],
   "source": [
    "'''Dividimos el data set en Atributos y Target'''\n",
    "\n",
    "X = df.drop(['name','release_date','artists','total_tracks','t_name0','popularity','ClasePopularidad'],axis = 1)\n",
    "y = df['ClasePopularidad']\n"
   ]
  },
  {
   "cell_type": "code",
   "execution_count": 7,
   "id": "3a21212a",
   "metadata": {
    "id": "3a21212a"
   },
   "outputs": [],
   "source": [
    "'''Hacemos el split en Train set y Test Set\n",
    "Usaremos un split de 80%-20%'''\n",
    "\n",
    "X_train, X_test, y_train, y_test = train_test_split(X, y, test_size=0.20, random_state=13)"
   ]
  },
  {
   "cell_type": "code",
   "execution_count": 8,
   "id": "50445523",
   "metadata": {
    "id": "50445523",
    "outputId": "79bc80ba-e708-41ee-a1f6-f22c2f01cd29"
   },
   "outputs": [
    {
     "data": {
      "text/plain": [
       "DecisionTreeClassifier(random_state=13)"
      ]
     },
     "execution_count": 8,
     "metadata": {},
     "output_type": "execute_result"
    }
   ],
   "source": [
    "'''Creamos el modelo'''\n",
    "\n",
    "\n",
    "modelArbol= tree.DecisionTreeClassifier(random_state = 13) \n",
    "modelArbol.fit(X_train, y_train) \n"
   ]
  },
  {
   "cell_type": "code",
   "execution_count": 9,
   "id": "20f04c6a",
   "metadata": {
    "id": "20f04c6a",
    "outputId": "81c075a2-c631-405e-fc18-29d9fd4b6bdd"
   },
   "outputs": [
    {
     "data": {
      "text/plain": [
       "array([1, 1, 4, ..., 2, 1, 2], dtype=int64)"
      ]
     },
     "execution_count": 9,
     "metadata": {},
     "output_type": "execute_result"
    }
   ],
   "source": [
    "#prediccion\n",
    "\n",
    "yPred = modelArbol.predict(X_test)\n",
    "yPred"
   ]
  },
  {
   "cell_type": "markdown",
   "id": "e17b079e",
   "metadata": {
    "id": "e17b079e"
   },
   "source": [
    "### Evaluacion del Modelo - Metricas"
   ]
  },
  {
   "cell_type": "code",
   "execution_count": 10,
   "id": "9001d09a",
   "metadata": {
    "id": "9001d09a",
    "outputId": "e2ed4e24-021d-46a2-b146-b36b95206d9f"
   },
   "outputs": [
    {
     "name": "stdout",
     "output_type": "stream",
     "text": [
      "El F1 Score del modelo es de 0.3475357686990242\n",
      "              precision    recall  f1-score   support\n",
      "\n",
      "           1       0.38      0.38      0.38      4732\n",
      "           2       0.38      0.38      0.38      5140\n",
      "           3       0.31      0.32      0.32      3665\n",
      "           4       0.14      0.15      0.14       913\n",
      "           5       0.08      0.09      0.09        22\n",
      "\n",
      "    accuracy                           0.35     14472\n",
      "   macro avg       0.26      0.26      0.26     14472\n",
      "weighted avg       0.35      0.35      0.35     14472\n",
      "\n",
      "           Prediccion Baja  Prediccion MediaBaja  PrediccionMeida  \\\n",
      "Baja                  1777                  1684             1017   \n",
      "MediaBaja             1642                  1940             1248   \n",
      "Media                 1013                  1185             1164   \n",
      "MediaAlta              225                   267              283   \n",
      "Alta                     4                     9                4   \n",
      "\n",
      "           Prediccion MediaAlta  Prediccion Alta  \n",
      "Baja                        245                9  \n",
      "MediaBaja                   302                8  \n",
      "Media                       299                4  \n",
      "MediaAlta                   136                2  \n",
      "Alta                          3                2  \n"
     ]
    }
   ],
   "source": [
    "#Evaluacion para Clasificacion\n",
    "\n",
    "from sklearn.metrics import confusion_matrix, classification_report, f1_score, accuracy_score\n",
    "\n",
    "#Report\n",
    "f1 = f1_score(y_test,yPred,average='weighted')\n",
    "print(f'El F1 Score del modelo es de {f1}')\n",
    "print(classification_report(y_test,yPred))\n",
    "\n",
    "\n",
    "confusion_matrixArbol = pd.DataFrame(confusion_matrix(y_test, yPred))\n",
    "confusion_matrixArbol.index = ['Baja','MediaBaja','Media','MediaAlta','Alta']\n",
    "confusion_matrixArbol.columns = ['Prediccion Baja','Prediccion MediaBaja','PrediccionMeida','Prediccion MediaAlta','Prediccion Alta']\n",
    "\n",
    "print(confusion_matrixArbol)"
   ]
  },
  {
   "cell_type": "code",
   "execution_count": 11,
   "id": "5d774a8e",
   "metadata": {
    "id": "5d774a8e",
    "outputId": "988103fc-312b-48d4-abee-8e044357ffbd"
   },
   "outputs": [
    {
     "data": {
      "text/html": [
       "<div>\n",
       "<style scoped>\n",
       "    .dataframe tbody tr th:only-of-type {\n",
       "        vertical-align: middle;\n",
       "    }\n",
       "\n",
       "    .dataframe tbody tr th {\n",
       "        vertical-align: top;\n",
       "    }\n",
       "\n",
       "    .dataframe thead th {\n",
       "        text-align: right;\n",
       "    }\n",
       "</style>\n",
       "<table border=\"1\" class=\"dataframe\">\n",
       "  <thead>\n",
       "    <tr style=\"text-align: right;\">\n",
       "      <th></th>\n",
       "      <th>ClasePopularidad</th>\n",
       "      <th>prediccion</th>\n",
       "    </tr>\n",
       "  </thead>\n",
       "  <tbody>\n",
       "    <tr>\n",
       "      <th>1521</th>\n",
       "      <td>5</td>\n",
       "      <td>3</td>\n",
       "    </tr>\n",
       "    <tr>\n",
       "      <th>1672</th>\n",
       "      <td>5</td>\n",
       "      <td>2</td>\n",
       "    </tr>\n",
       "    <tr>\n",
       "      <th>1799</th>\n",
       "      <td>5</td>\n",
       "      <td>2</td>\n",
       "    </tr>\n",
       "    <tr>\n",
       "      <th>2417</th>\n",
       "      <td>5</td>\n",
       "      <td>4</td>\n",
       "    </tr>\n",
       "    <tr>\n",
       "      <th>2962</th>\n",
       "      <td>5</td>\n",
       "      <td>4</td>\n",
       "    </tr>\n",
       "    <tr>\n",
       "      <th>3078</th>\n",
       "      <td>5</td>\n",
       "      <td>3</td>\n",
       "    </tr>\n",
       "    <tr>\n",
       "      <th>3559</th>\n",
       "      <td>5</td>\n",
       "      <td>2</td>\n",
       "    </tr>\n",
       "    <tr>\n",
       "      <th>3574</th>\n",
       "      <td>5</td>\n",
       "      <td>1</td>\n",
       "    </tr>\n",
       "    <tr>\n",
       "      <th>3677</th>\n",
       "      <td>5</td>\n",
       "      <td>2</td>\n",
       "    </tr>\n",
       "    <tr>\n",
       "      <th>4279</th>\n",
       "      <td>5</td>\n",
       "      <td>5</td>\n",
       "    </tr>\n",
       "    <tr>\n",
       "      <th>5404</th>\n",
       "      <td>5</td>\n",
       "      <td>1</td>\n",
       "    </tr>\n",
       "    <tr>\n",
       "      <th>7541</th>\n",
       "      <td>5</td>\n",
       "      <td>5</td>\n",
       "    </tr>\n",
       "    <tr>\n",
       "      <th>7670</th>\n",
       "      <td>5</td>\n",
       "      <td>2</td>\n",
       "    </tr>\n",
       "    <tr>\n",
       "      <th>7823</th>\n",
       "      <td>5</td>\n",
       "      <td>2</td>\n",
       "    </tr>\n",
       "    <tr>\n",
       "      <th>7918</th>\n",
       "      <td>5</td>\n",
       "      <td>1</td>\n",
       "    </tr>\n",
       "    <tr>\n",
       "      <th>9643</th>\n",
       "      <td>5</td>\n",
       "      <td>3</td>\n",
       "    </tr>\n",
       "    <tr>\n",
       "      <th>9726</th>\n",
       "      <td>5</td>\n",
       "      <td>2</td>\n",
       "    </tr>\n",
       "    <tr>\n",
       "      <th>11844</th>\n",
       "      <td>5</td>\n",
       "      <td>4</td>\n",
       "    </tr>\n",
       "    <tr>\n",
       "      <th>12802</th>\n",
       "      <td>5</td>\n",
       "      <td>3</td>\n",
       "    </tr>\n",
       "    <tr>\n",
       "      <th>13046</th>\n",
       "      <td>5</td>\n",
       "      <td>2</td>\n",
       "    </tr>\n",
       "    <tr>\n",
       "      <th>13655</th>\n",
       "      <td>5</td>\n",
       "      <td>1</td>\n",
       "    </tr>\n",
       "    <tr>\n",
       "      <th>13703</th>\n",
       "      <td>5</td>\n",
       "      <td>2</td>\n",
       "    </tr>\n",
       "  </tbody>\n",
       "</table>\n",
       "</div>"
      ],
      "text/plain": [
       "       ClasePopularidad  prediccion\n",
       "1521                  5           3\n",
       "1672                  5           2\n",
       "1799                  5           2\n",
       "2417                  5           4\n",
       "2962                  5           4\n",
       "3078                  5           3\n",
       "3559                  5           2\n",
       "3574                  5           1\n",
       "3677                  5           2\n",
       "4279                  5           5\n",
       "5404                  5           1\n",
       "7541                  5           5\n",
       "7670                  5           2\n",
       "7823                  5           2\n",
       "7918                  5           1\n",
       "9643                  5           3\n",
       "9726                  5           2\n",
       "11844                 5           4\n",
       "12802                 5           3\n",
       "13046                 5           2\n",
       "13655                 5           1\n",
       "13703                 5           2"
      ]
     },
     "execution_count": 11,
     "metadata": {},
     "output_type": "execute_result"
    }
   ],
   "source": [
    "yTest = y_test.reset_index()\n",
    "ResultsClas = yTest.drop('id', axis = 1)\n",
    "ResultsClas['prediccion'] = yPred\n",
    "ResultsClas.loc[ResultsClas['ClasePopularidad']>4]\n",
    "    "
   ]
  },
  {
   "cell_type": "markdown",
   "id": "8138c15b",
   "metadata": {
    "id": "8138c15b"
   },
   "source": [
    "**Observaciones**\n",
    "\n"
   ]
  },
  {
   "cell_type": "code",
   "execution_count": 12,
   "id": "6dd2b9cf",
   "metadata": {},
   "outputs": [
    {
     "data": {
      "text/plain": [
       "[0.28788048705362473,\n",
       " 0.28788048705362473,\n",
       " 0.3078764815049817,\n",
       " 0.3175436118741943,\n",
       " 0.37307249758457034,\n",
       " 0.3703940880244257,\n",
       " 0.3683421383903139,\n",
       " 0.37139284403732326,\n",
       " 0.36567122758382353,\n",
       " 0.3796427452859862,\n",
       " 0.3752670476208142,\n",
       " 0.3749203410912541,\n",
       " 0.3755278290197333,\n",
       " 0.3741689753599802]"
      ]
     },
     "execution_count": 12,
     "metadata": {},
     "output_type": "execute_result"
    }
   ],
   "source": [
    "'''Generamos una funcion que nos de el Valor de F1 para diferentes valores de Poda, de 1 a 15'''\n",
    "\n",
    "poda = np.arange(1,15)\n",
    "accuracy = []\n",
    "result = []\n",
    "\n",
    "for i in poda:\n",
    "    modelArbol= tree.DecisionTreeClassifier(random_state = 13,max_depth = i)  #Generamos el clasificador con la poda seleccionada\n",
    "    modelArbol.fit(X_train, y_train) \n",
    "    yPred = modelArbol.predict(X_test) #Generamos la prediccion\n",
    "    \n",
    "    a= accuracy_score(y_test,yPred)\n",
    "    f = f1_score(y_test,yPred,average='weighted')  \n",
    "    accuracy.append(a)\n",
    "    result.append(f)\n",
    "result\n"
   ]
  },
  {
   "cell_type": "code",
   "execution_count": 13,
   "id": "d5830aa5",
   "metadata": {},
   "outputs": [
    {
     "data": {
      "text/plain": [
       "[0.37610558319513543,\n",
       " 0.37610558319513543,\n",
       " 0.37804035378662243,\n",
       " 0.3850884466556108,\n",
       " 0.39165284687672747,\n",
       " 0.3960751796572692,\n",
       " 0.3971116639027087,\n",
       " 0.39807904919845216,\n",
       " 0.396489773355445,\n",
       " 0.3943477059148701,\n",
       " 0.3914455500276396,\n",
       " 0.3920674405749033,\n",
       " 0.39130735212824763,\n",
       " 0.38598673300165837]"
      ]
     },
     "execution_count": 13,
     "metadata": {},
     "output_type": "execute_result"
    }
   ],
   "source": [
    "accuracy"
   ]
  },
  {
   "cell_type": "code",
   "execution_count": 14,
   "id": "32b05bfc",
   "metadata": {},
   "outputs": [
    {
     "data": {
      "text/plain": [
       "[<matplotlib.lines.Line2D at 0x19e5e91fbe0>]"
      ]
     },
     "execution_count": 14,
     "metadata": {},
     "output_type": "execute_result"
    },
    {
     "data": {
      "image/png": "[encoded data removed]",
      "text/plain": [
       "<Figure size 432x288 with 1 Axes>"
      ]
     },
     "metadata": {
      "needs_background": "light"
     },
     "output_type": "display_data"
    }
   ],
   "source": [
    "'''Hacemos un grafico sencillo para ver evaluar el resultado'''\n",
    "plt.plot(result)\n",
    "plt.plot(accuracy)"
   ]
  },
  {
   "cell_type": "markdown",
   "id": "2aa79fe0",
   "metadata": {},
   "source": [
    "**Observaciones**\n",
    "\n",
    "\n"
   ]
  },
  {
   "cell_type": "markdown",
   "id": "efe7745d",
   "metadata": {
    "id": "efe7745d"
   },
   "source": [
    "# 2- Random Forest"
   ]
  },
  {
   "cell_type": "code",
   "execution_count": 15,
   "id": "0c71c236",
   "metadata": {
    "id": "0c71c236",
    "outputId": "e7a65f88-4194-48f5-9609-a732bf2b3324"
   },
   "outputs": [
    {
     "data": {
      "text/plain": [
       "id\n",
       "146790    2\n",
       "142735    1\n",
       "971       4\n",
       "61341     1\n",
       "153359    3\n",
       "         ..\n",
       "70247     2\n",
       "44415     4\n",
       "142189    3\n",
       "62804     2\n",
       "95312     1\n",
       "Name: ClasePopularidad, Length: 57885, dtype: int64"
      ]
     },
     "execution_count": 15,
     "metadata": {},
     "output_type": "execute_result"
    }
   ],
   "source": [
    "'''Utilizando la misma division que se uso para la Regresion por Arbol de decision'''\n",
    "\n",
    "X_test\n",
    "y_train"
   ]
  },
  {
   "cell_type": "code",
   "execution_count": 16,
   "id": "0e7b8725",
   "metadata": {
    "id": "0e7b8725",
    "outputId": "d560f83e-130f-47b0-c13b-e53fa02a8cc6"
   },
   "outputs": [
    {
     "data": {
      "text/plain": [
       "RandomForestClassifier(n_estimators=25)"
      ]
     },
     "execution_count": 16,
     "metadata": {},
     "output_type": "execute_result"
    }
   ],
   "source": [
    "'''Creamos el modelo'''\n",
    "\n",
    "modelo_random_forest = RandomForestClassifier(n_estimators = 25) \n",
    "modelo_random_forest.fit(X_train, y_train)"
   ]
  },
  {
   "cell_type": "code",
   "execution_count": 17,
   "id": "103612b2",
   "metadata": {
    "id": "103612b2"
   },
   "outputs": [],
   "source": [
    "#Se hace la prediccion\n",
    "yPredForest = modelo_random_forest.predict(X_test)"
   ]
  },
  {
   "cell_type": "code",
   "execution_count": 18,
   "id": "70f57a42",
   "metadata": {
    "id": "70f57a42",
    "outputId": "d9ef65a2-fba9-456e-b5c4-eca6be3c113c"
   },
   "outputs": [
    {
     "name": "stdout",
     "output_type": "stream",
     "text": [
      "El F1 Score del modelo es de 0.38883241537472946\n",
      "              precision    recall  f1-score   support\n",
      "\n",
      "           1       0.42      0.48      0.45      4732\n",
      "           2       0.39      0.47      0.43      5140\n",
      "           3       0.39      0.29      0.33      3665\n",
      "           4       0.41      0.06      0.10       913\n",
      "           5       0.67      0.09      0.16        22\n",
      "\n",
      "    accuracy                           0.40     14472\n",
      "   macro avg       0.46      0.28      0.29     14472\n",
      "weighted avg       0.40      0.40      0.39     14472\n",
      "\n",
      "           Prediccion Baja  Prediccion MediaBaja  PrediccionMeida  \\\n",
      "Baja                  2285                  1905              532   \n",
      "MediaBaja             1844                  2425              852   \n",
      "Media                 1033                  1540             1051   \n",
      "MediaAlta              247                   365              249   \n",
      "Alta                    10                     5                3   \n",
      "\n",
      "           Prediccion MediaAlta  Prediccion Alta  \n",
      "Baja                         10                0  \n",
      "MediaBaja                    19                0  \n",
      "Media                        41                0  \n",
      "MediaAlta                    51                1  \n",
      "Alta                          2                2  \n"
     ]
    }
   ],
   "source": [
    "#Evaluacion con Metricas\n",
    "\n",
    "f1Forest = f1_score(y_test,yPredForest,average='weighted')\n",
    "print(f'El F1 Score del modelo es de {f1Forest}')\n",
    "print(classification_report(y_test,yPredForest))\n",
    "\n",
    "\n",
    "confusion_matrixForest = pd.DataFrame(confusion_matrix(y_test, yPredForest))\n",
    "confusion_matrixForest.index = ['Baja','MediaBaja','Media','MediaAlta','Alta']\n",
    "confusion_matrixForest.columns = ['Prediccion Baja','Prediccion MediaBaja','PrediccionMeida','Prediccion MediaAlta','Prediccion Alta']\n",
    "\n",
    "print(confusion_matrixForest)"
   ]
  },
  {
   "cell_type": "code",
   "execution_count": 19,
   "id": "795ab4d8",
   "metadata": {},
   "outputs": [
    {
     "name": "stdout",
     "output_type": "stream",
     "text": [
      "1.390625\n",
      "2.859375\n",
      "4.21875\n",
      "5.640625\n",
      "7.046875\n",
      "8.5\n",
      "10.078125\n",
      "11.515625\n",
      "12.671875\n"
     ]
    },
    {
     "data": {
      "text/plain": [
       "[0.3701362232796992,\n",
       " 0.3823677585062852,\n",
       " 0.38773191373320665,\n",
       " 0.39085056155896,\n",
       " 0.397654420752266,\n",
       " 0.39928162846944304,\n",
       " 0.40274276530681363,\n",
       " 0.39876199906861326,\n",
       " 0.3994410541122013]"
      ]
     },
     "execution_count": 19,
     "metadata": {},
     "output_type": "execute_result"
    }
   ],
   "source": [
    "'''Similar al caso del Arbol, haremos un loop para calcular Accuracies a diferentes valore de n_estimator'''\n",
    "\n",
    "import time   #Quiero ver tambien cuanto tiempo lleva el training segun el numero de estimadores\n",
    "T = []\n",
    "estimators = np.arange(10,100,10)\n",
    "accuracyForest = []\n",
    "resultForest = []\n",
    "\n",
    "for i in estimators:\n",
    "    inicio = time.process_time()\n",
    "    modelo_random_forest = RandomForestClassifier(n_estimators = i) \n",
    "    modelo_random_forest.fit(X_train, y_train)\n",
    "    yPredForest = modelo_random_forest.predict(X_test)\n",
    "    fin = time.process_time()\n",
    "    t = fin-inicio\n",
    "    T.append(t)\n",
    "    print(t)\n",
    "    \n",
    "    \n",
    "    a= accuracy_score(y_test,yPredForest)\n",
    "    f = f1_score(y_test,yPredForest,average='weighted')  \n",
    "    accuracyForest.append(a)\n",
    "    resultForest.append(f)\n",
    "\n",
    "resultForest\n",
    "\n"
   ]
  },
  {
   "cell_type": "code",
   "execution_count": 41,
   "id": "8194a216",
   "metadata": {},
   "outputs": [
    {
     "data": {
      "text/plain": [
       "[0.3826008844665561,\n",
       " 0.39614427860696516,\n",
       " 0.4033305693753455,\n",
       " 0.4059563294637922,\n",
       " 0.4161829740187949,\n",
       " 0.41252072968490877,\n",
       " 0.4134190160309563,\n",
       " 0.4166666666666667,\n",
       " 0.41404090657822]"
      ]
     },
     "execution_count": 41,
     "metadata": {},
     "output_type": "execute_result"
    }
   ],
   "source": [
    "accuracyForest"
   ]
  },
  {
   "cell_type": "code",
   "execution_count": 40,
   "id": "994c3a54",
   "metadata": {},
   "outputs": [
    {
     "data": {
      "text/plain": [
       "[<matplotlib.lines.Line2D at 0x1ea00003af0>]"
      ]
     },
     "execution_count": 40,
     "metadata": {},
     "output_type": "execute_result"
    },
    {
     "data": {
      "image/png": "[encoded data removed]",
      "text/plain": [
       "<Figure size 432x288 with 1 Axes>"
      ]
     },
     "metadata": {
      "needs_background": "light"
     },
     "output_type": "display_data"
    }
   ],
   "source": [
    "'''Hacemos un grafico sencillo para ver evaluar el resultado'''\n",
    "plt.plot(estimators, resultForest)\n",
    "plt.plot(estimators, accuracyForest)\n"
   ]
  },
  {
   "cell_type": "markdown",
   "id": "2c75e850",
   "metadata": {
    "id": "2c75e850"
   },
   "source": [
    "**Observaciones**\n",
    "\n"
   ]
  },
  {
   "cell_type": "markdown",
   "id": "1edc2274",
   "metadata": {
    "id": "a2f2b1ca"
   },
   "source": [
    "# 3- SVM"
   ]
  },
  {
   "cell_type": "markdown",
   "id": "7aef68ee",
   "metadata": {},
   "source": [
    "Para SVM debemos elegir que tipo de funcionalidad tendra el plano de separacion. Comenzaremos con la opcion mas facil que es una funcionalidad lineal y veremos el resultado obtenido segun las metricas"
   ]
  },
  {
   "cell_type": "code",
   "execution_count": null,
   "id": "962d91a3",
   "metadata": {},
   "outputs": [],
   "source": [
    "'''Creamos el modelo'''\n",
    "\n",
    "modelo_SVM = SVC(kernel = 'linear') \n",
    "modelo_SVM.fit(X_train, y_train)"
   ]
  },
  {
   "cell_type": "code",
   "execution_count": null,
   "id": "6e14f9fd",
   "metadata": {},
   "outputs": [],
   "source": [
    "#Se hace la prediccion\n",
    "yPredSVM = modelo_SVM.predict(X_test)"
   ]
  },
  {
   "cell_type": "code",
   "execution_count": null,
   "id": "4af4f0fe",
   "metadata": {},
   "outputs": [],
   "source": [
    "#Evaluacion con Metricas\n",
    "\n",
    "f1SVM = f1_score(y_test,yPredSVM,average='weighted')\n",
    "print(f'El F1 Score del modelo es de {f1Forest}')\n",
    "print(classification_report(y_test,yPredSVM))\n",
    "\n",
    "\n",
    "confusion_matrixForest = pd.DataFrame(confusion_matrix(y_test, yPredSVM))\n",
    "confusion_matrixForest.index = ['Baja','MediaBaja','Media','MediaAlta','Alta']\n",
    "confusion_matrixForest.columns = ['Prediccion Baja','Prediccion MediaBaja','PrediccionMeida','Prediccion MediaAlta','Prediccion Alta']\n",
    "\n",
    "print(confusion_matrixForest)"
   ]
  },
  {
   "cell_type": "code",
   "execution_count": null,
   "id": "c19ded04",
   "metadata": {},
   "outputs": [],
   "source": []
  },
  {
   "cell_type": "code",
   "execution_count": null,
   "id": "c3d614fb",
   "metadata": {},
   "outputs": [],
   "source": []
  },
  {
   "cell_type": "code",
   "execution_count": null,
   "id": "4af4e492",
   "metadata": {},
   "outputs": [],
   "source": []
  },
  {
   "cell_type": "code",
   "execution_count": null,
   "id": "fa2ba707",
   "metadata": {},
   "outputs": [],
   "source": []
  }
 ],
 "metadata": {
  "colab": {
   "collapsed_sections": [
    "8fcb8dd4",
    "efd25574"
   ],
   "name": "ML - Clasificacion.ipynb",
   "provenance": []
  },
  "kernelspec": {
   "display_name": "Python 3 (ipykernel)",
   "language": "python",
   "name": "python3"
  },
  "language_info": {
   "codemirror_mode": {
    "name": "ipython",
    "version": 3
   },
   "file_extension": ".py",
   "mimetype": "text/x-python",
   "name": "python",
   "nbconvert_exporter": "python",
   "pygments_lexer": "ipython3",
   "version": "3.9.7"
  }
 },
 "nbformat": 4,
 "nbformat_minor": 5
}
