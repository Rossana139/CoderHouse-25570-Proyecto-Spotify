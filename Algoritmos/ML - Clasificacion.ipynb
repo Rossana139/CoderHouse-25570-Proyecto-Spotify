{
 "cells": [
  {
   "cell_type": "markdown",
   "id": "6221a7ff",
   "metadata": {
    "id": "6221a7ff"
   },
   "source": [
    "# Algoritmos de Clasificacion "
   ]
  },
  {
   "cell_type": "code",
   "execution_count": 1,
   "id": "dc0b5e5a",
   "metadata": {
    "id": "dc0b5e5a",
    "outputId": "0498c02b-94c0-4dfc-8071-ea109e16c4df"
   },
   "outputs": [
    {
     "name": "stdout",
     "output_type": "stream",
     "text": [
      "¡Librerías importadas con éxito!\n"
     ]
    }
   ],
   "source": [
    "#Import\n",
    "\n",
    "import numpy as np\n",
    "import pandas as pd\n",
    "import matplotlib.pyplot as plt\n",
    "%matplotlib inline\n",
    "import seaborn as sns\n",
    "import math\n",
    "\n",
    "from sklearn.model_selection import train_test_split\n",
    "from sklearn import tree\n",
    "from sklearn.ensemble import RandomForestClassifier\n",
    "from sklearn.svm import SVC\n",
    "\n",
    "print('¡Librerías importadas con éxito!')"
   ]
  },
  {
   "cell_type": "code",
   "execution_count": 2,
   "id": "775218df",
   "metadata": {
    "id": "775218df",
    "outputId": "fd9aa6fc-a464-4111-8cdf-6653b6567167"
   },
   "outputs": [
    {
     "data": {
      "text/html": [
       "<div>\n",
       "<style scoped>\n",
       "    .dataframe tbody tr th:only-of-type {\n",
       "        vertical-align: middle;\n",
       "    }\n",
       "\n",
       "    .dataframe tbody tr th {\n",
       "        vertical-align: top;\n",
       "    }\n",
       "\n",
       "    .dataframe thead th {\n",
       "        text-align: right;\n",
       "    }\n",
       "</style>\n",
       "<table border=\"1\" class=\"dataframe\">\n",
       "  <thead>\n",
       "    <tr style=\"text-align: right;\">\n",
       "      <th></th>\n",
       "      <th>t_key0</th>\n",
       "      <th>t_mode0</th>\n",
       "      <th>t_dur0</th>\n",
       "      <th>t_dance0</th>\n",
       "      <th>t_energy0</th>\n",
       "      <th>t_speech0</th>\n",
       "      <th>t_acous0</th>\n",
       "      <th>t_ins0</th>\n",
       "      <th>t_live0</th>\n",
       "      <th>t_val0</th>\n",
       "      <th>t_tempo0</th>\n",
       "      <th>popularity</th>\n",
       "      <th>ClasePopularidad</th>\n",
       "    </tr>\n",
       "    <tr>\n",
       "      <th>id</th>\n",
       "      <th></th>\n",
       "      <th></th>\n",
       "      <th></th>\n",
       "      <th></th>\n",
       "      <th></th>\n",
       "      <th></th>\n",
       "      <th></th>\n",
       "      <th></th>\n",
       "      <th></th>\n",
       "      <th></th>\n",
       "      <th></th>\n",
       "      <th></th>\n",
       "      <th></th>\n",
       "    </tr>\n",
       "  </thead>\n",
       "  <tbody>\n",
       "    <tr>\n",
       "      <th>146790</th>\n",
       "      <td>2.217079</td>\n",
       "      <td>0.0</td>\n",
       "      <td>139.731754</td>\n",
       "      <td>0.869118</td>\n",
       "      <td>0.519249</td>\n",
       "      <td>0.029225</td>\n",
       "      <td>0.319573</td>\n",
       "      <td>0.002967</td>\n",
       "      <td>0.091678</td>\n",
       "      <td>0.188732</td>\n",
       "      <td>26.457350</td>\n",
       "      <td>34.0</td>\n",
       "      <td>2</td>\n",
       "    </tr>\n",
       "    <tr>\n",
       "      <th>142735</th>\n",
       "      <td>4.304625</td>\n",
       "      <td>0.0</td>\n",
       "      <td>140.968235</td>\n",
       "      <td>1.910310</td>\n",
       "      <td>0.769341</td>\n",
       "      <td>0.067253</td>\n",
       "      <td>0.023262</td>\n",
       "      <td>0.000000</td>\n",
       "      <td>0.052209</td>\n",
       "      <td>0.663667</td>\n",
       "      <td>23.141670</td>\n",
       "      <td>2.0</td>\n",
       "      <td>1</td>\n",
       "    </tr>\n",
       "    <tr>\n",
       "      <th>971</th>\n",
       "      <td>4.304625</td>\n",
       "      <td>1.0</td>\n",
       "      <td>109.520199</td>\n",
       "      <td>0.977668</td>\n",
       "      <td>0.253525</td>\n",
       "      <td>0.026992</td>\n",
       "      <td>0.364818</td>\n",
       "      <td>0.001985</td>\n",
       "      <td>0.074177</td>\n",
       "      <td>0.444230</td>\n",
       "      <td>29.855429</td>\n",
       "      <td>62.0</td>\n",
       "      <td>4</td>\n",
       "    </tr>\n",
       "    <tr>\n",
       "      <th>61341</th>\n",
       "      <td>3.828397</td>\n",
       "      <td>1.0</td>\n",
       "      <td>75.954996</td>\n",
       "      <td>1.509001</td>\n",
       "      <td>0.931646</td>\n",
       "      <td>0.106186</td>\n",
       "      <td>0.139922</td>\n",
       "      <td>0.000000</td>\n",
       "      <td>0.120665</td>\n",
       "      <td>0.491329</td>\n",
       "      <td>31.462427</td>\n",
       "      <td>19.0</td>\n",
       "      <td>1</td>\n",
       "    </tr>\n",
       "    <tr>\n",
       "      <th>153359</th>\n",
       "      <td>3.828397</td>\n",
       "      <td>1.0</td>\n",
       "      <td>91.244236</td>\n",
       "      <td>1.555391</td>\n",
       "      <td>0.545826</td>\n",
       "      <td>0.035371</td>\n",
       "      <td>0.251469</td>\n",
       "      <td>0.149262</td>\n",
       "      <td>0.083623</td>\n",
       "      <td>0.272233</td>\n",
       "      <td>34.090480</td>\n",
       "      <td>43.0</td>\n",
       "      <td>3</td>\n",
       "    </tr>\n",
       "  </tbody>\n",
       "</table>\n",
       "</div>"
      ],
      "text/plain": [
       "          t_key0  t_mode0      t_dur0  t_dance0  t_energy0  t_speech0  \\\n",
       "id                                                                      \n",
       "146790  2.217079      0.0  139.731754  0.869118   0.519249   0.029225   \n",
       "142735  4.304625      0.0  140.968235  1.910310   0.769341   0.067253   \n",
       "971     4.304625      1.0  109.520199  0.977668   0.253525   0.026992   \n",
       "61341   3.828397      1.0   75.954996  1.509001   0.931646   0.106186   \n",
       "153359  3.828397      1.0   91.244236  1.555391   0.545826   0.035371   \n",
       "\n",
       "        t_acous0    t_ins0   t_live0    t_val0   t_tempo0  popularity  \\\n",
       "id                                                                      \n",
       "146790  0.319573  0.002967  0.091678  0.188732  26.457350        34.0   \n",
       "142735  0.023262  0.000000  0.052209  0.663667  23.141670         2.0   \n",
       "971     0.364818  0.001985  0.074177  0.444230  29.855429        62.0   \n",
       "61341   0.139922  0.000000  0.120665  0.491329  31.462427        19.0   \n",
       "153359  0.251469  0.149262  0.083623  0.272233  34.090480        43.0   \n",
       "\n",
       "        ClasePopularidad  \n",
       "id                        \n",
       "146790                 2  \n",
       "142735                 1  \n",
       "971                    4  \n",
       "61341                  1  \n",
       "153359                 3  "
      ]
     },
     "execution_count": 2,
     "metadata": {},
     "output_type": "execute_result"
    }
   ],
   "source": [
    "#Abrimos los archivos con el Train y Test set\n",
    "train = pd.read_csv('trainset.csv')\n",
    "train = train.set_index('id')\n",
    "train.head()"
   ]
  },
  {
   "cell_type": "code",
   "execution_count": 3,
   "id": "4f8a00b4",
   "metadata": {},
   "outputs": [
    {
     "data": {
      "text/plain": [
       "(55543, 13)"
      ]
     },
     "execution_count": 3,
     "metadata": {},
     "output_type": "execute_result"
    }
   ],
   "source": [
    "train.shape"
   ]
  },
  {
   "cell_type": "code",
   "execution_count": 7,
   "id": "89c58300",
   "metadata": {},
   "outputs": [
    {
     "data": {
      "text/plain": [
       "t_key0              0\n",
       "t_mode0             0\n",
       "t_dur0              0\n",
       "t_dance0            0\n",
       "t_energy0           0\n",
       "t_speech0           0\n",
       "t_acous0            0\n",
       "t_ins0              0\n",
       "t_live0             0\n",
       "t_val0              0\n",
       "t_tempo0            0\n",
       "popularity          0\n",
       "ClasePopularidad    0\n",
       "dtype: int64"
      ]
     },
     "execution_count": 7,
     "metadata": {},
     "output_type": "execute_result"
    }
   ],
   "source": [
    "train.isnull().sum()"
   ]
  },
  {
   "cell_type": "code",
   "execution_count": 4,
   "id": "39acfbba",
   "metadata": {},
   "outputs": [
    {
     "data": {
      "text/html": [
       "<div>\n",
       "<style scoped>\n",
       "    .dataframe tbody tr th:only-of-type {\n",
       "        vertical-align: middle;\n",
       "    }\n",
       "\n",
       "    .dataframe tbody tr th {\n",
       "        vertical-align: top;\n",
       "    }\n",
       "\n",
       "    .dataframe thead th {\n",
       "        text-align: right;\n",
       "    }\n",
       "</style>\n",
       "<table border=\"1\" class=\"dataframe\">\n",
       "  <thead>\n",
       "    <tr style=\"text-align: right;\">\n",
       "      <th></th>\n",
       "      <th>t_key0</th>\n",
       "      <th>t_mode0</th>\n",
       "      <th>t_dur0</th>\n",
       "      <th>t_dance0</th>\n",
       "      <th>t_energy0</th>\n",
       "      <th>t_speech0</th>\n",
       "      <th>t_acous0</th>\n",
       "      <th>t_ins0</th>\n",
       "      <th>t_live0</th>\n",
       "      <th>t_val0</th>\n",
       "      <th>t_tempo0</th>\n",
       "      <th>popularity</th>\n",
       "      <th>ClasePopularidad</th>\n",
       "    </tr>\n",
       "    <tr>\n",
       "      <th>id</th>\n",
       "      <th></th>\n",
       "      <th></th>\n",
       "      <th></th>\n",
       "      <th></th>\n",
       "      <th></th>\n",
       "      <th></th>\n",
       "      <th></th>\n",
       "      <th></th>\n",
       "      <th></th>\n",
       "      <th></th>\n",
       "      <th></th>\n",
       "      <th></th>\n",
       "      <th></th>\n",
       "    </tr>\n",
       "  </thead>\n",
       "  <tbody>\n",
       "    <tr>\n",
       "      <th>116295</th>\n",
       "      <td>3.873489</td>\n",
       "      <td>1.0</td>\n",
       "      <td>102.077434</td>\n",
       "      <td>1.136005</td>\n",
       "      <td>0.652068</td>\n",
       "      <td>0.038806</td>\n",
       "      <td>0.245297</td>\n",
       "      <td>0.000004</td>\n",
       "      <td>0.061371</td>\n",
       "      <td>0.313870</td>\n",
       "      <td>20.325737</td>\n",
       "      <td>56.0</td>\n",
       "      <td>3</td>\n",
       "    </tr>\n",
       "    <tr>\n",
       "      <th>101223</th>\n",
       "      <td>1.595405</td>\n",
       "      <td>1.0</td>\n",
       "      <td>163.222452</td>\n",
       "      <td>1.559666</td>\n",
       "      <td>1.375892</td>\n",
       "      <td>0.090603</td>\n",
       "      <td>0.000999</td>\n",
       "      <td>0.144474</td>\n",
       "      <td>0.079899</td>\n",
       "      <td>0.237952</td>\n",
       "      <td>32.519312</td>\n",
       "      <td>22.0</td>\n",
       "      <td>2</td>\n",
       "    </tr>\n",
       "    <tr>\n",
       "      <th>47928</th>\n",
       "      <td>4.359420</td>\n",
       "      <td>1.0</td>\n",
       "      <td>113.531853</td>\n",
       "      <td>1.593801</td>\n",
       "      <td>1.504156</td>\n",
       "      <td>0.052763</td>\n",
       "      <td>0.030623</td>\n",
       "      <td>0.005559</td>\n",
       "      <td>0.070192</td>\n",
       "      <td>0.776168</td>\n",
       "      <td>26.369467</td>\n",
       "      <td>22.0</td>\n",
       "      <td>2</td>\n",
       "    </tr>\n",
       "    <tr>\n",
       "      <th>88722</th>\n",
       "      <td>3.873489</td>\n",
       "      <td>1.0</td>\n",
       "      <td>96.792061</td>\n",
       "      <td>1.289259</td>\n",
       "      <td>1.595320</td>\n",
       "      <td>0.048714</td>\n",
       "      <td>0.151174</td>\n",
       "      <td>0.000000</td>\n",
       "      <td>0.034878</td>\n",
       "      <td>0.862629</td>\n",
       "      <td>32.618254</td>\n",
       "      <td>50.0</td>\n",
       "      <td>3</td>\n",
       "    </tr>\n",
       "    <tr>\n",
       "      <th>111363</th>\n",
       "      <td>4.359420</td>\n",
       "      <td>0.0</td>\n",
       "      <td>102.640817</td>\n",
       "      <td>1.814995</td>\n",
       "      <td>1.031562</td>\n",
       "      <td>0.036711</td>\n",
       "      <td>0.015053</td>\n",
       "      <td>0.000002</td>\n",
       "      <td>0.089617</td>\n",
       "      <td>0.838169</td>\n",
       "      <td>25.157347</td>\n",
       "      <td>35.0</td>\n",
       "      <td>2</td>\n",
       "    </tr>\n",
       "  </tbody>\n",
       "</table>\n",
       "</div>"
      ],
      "text/plain": [
       "          t_key0  t_mode0      t_dur0  t_dance0  t_energy0  t_speech0  \\\n",
       "id                                                                      \n",
       "116295  3.873489      1.0  102.077434  1.136005   0.652068   0.038806   \n",
       "101223  1.595405      1.0  163.222452  1.559666   1.375892   0.090603   \n",
       "47928   4.359420      1.0  113.531853  1.593801   1.504156   0.052763   \n",
       "88722   3.873489      1.0   96.792061  1.289259   1.595320   0.048714   \n",
       "111363  4.359420      0.0  102.640817  1.814995   1.031562   0.036711   \n",
       "\n",
       "        t_acous0    t_ins0   t_live0    t_val0   t_tempo0  popularity  \\\n",
       "id                                                                      \n",
       "116295  0.245297  0.000004  0.061371  0.313870  20.325737        56.0   \n",
       "101223  0.000999  0.144474  0.079899  0.237952  32.519312        22.0   \n",
       "47928   0.030623  0.005559  0.070192  0.776168  26.369467        22.0   \n",
       "88722   0.151174  0.000000  0.034878  0.862629  32.618254        50.0   \n",
       "111363  0.015053  0.000002  0.089617  0.838169  25.157347        35.0   \n",
       "\n",
       "        ClasePopularidad  \n",
       "id                        \n",
       "116295                 3  \n",
       "101223                 2  \n",
       "47928                  2  \n",
       "88722                  3  \n",
       "111363                 2  "
      ]
     },
     "execution_count": 4,
     "metadata": {},
     "output_type": "execute_result"
    }
   ],
   "source": [
    "test = pd.read_csv('testset.csv')\n",
    "test = test.set_index('id')\n",
    "test.head()"
   ]
  },
  {
   "cell_type": "code",
   "execution_count": 5,
   "id": "c7fe60ed",
   "metadata": {
    "id": "c7fe60ed",
    "outputId": "f32374d5-0b31-4bd7-a107-5d4a4acccdf3"
   },
   "outputs": [
    {
     "data": {
      "text/plain": [
       "(13920, 13)"
      ]
     },
     "execution_count": 5,
     "metadata": {},
     "output_type": "execute_result"
    }
   ],
   "source": [
    "test.shape"
   ]
  },
  {
   "cell_type": "code",
   "execution_count": 6,
   "id": "d48086d8",
   "metadata": {
    "id": "d48086d8",
    "outputId": "5cb50c7a-0b2b-4a60-a57c-c9ea4c4a886a"
   },
   "outputs": [
    {
     "data": {
      "text/plain": [
       "t_key0              0\n",
       "t_mode0             0\n",
       "t_dur0              0\n",
       "t_dance0            0\n",
       "t_energy0           0\n",
       "t_speech0           0\n",
       "t_acous0            0\n",
       "t_ins0              0\n",
       "t_live0             0\n",
       "t_val0              0\n",
       "t_tempo0            0\n",
       "popularity          0\n",
       "ClasePopularidad    0\n",
       "dtype: int64"
      ]
     },
     "execution_count": 6,
     "metadata": {},
     "output_type": "execute_result"
    }
   ],
   "source": [
    "#Verificamos que no hay valores nulos \n",
    "test.isnull().sum()"
   ]
  },
  {
   "cell_type": "markdown",
   "id": "ca82f809",
   "metadata": {},
   "source": [
    "**Entrenamiento como Problema de Clasificacion**\n",
    "\n",
    "En este caso nuestro target es la variable creada **ClasePopularidad** que tiene los 5 niveles de popularidad definidos (ver Notebook de Limpieza de Datos).\n",
    "\n",
    "Veamos la proporcion de cada clase, para ver que tan desbalanceada esta la variable target\n"
   ]
  },
  {
   "cell_type": "code",
   "execution_count": 8,
   "id": "cfcc7d90",
   "metadata": {},
   "outputs": [
    {
     "data": {
      "text/plain": [
       "2    0.358173\n",
       "1    0.319950\n",
       "3    0.254956\n",
       "4    0.065445\n",
       "5    0.001476\n",
       "Name: ClasePopularidad, dtype: float64"
      ]
     },
     "execution_count": 8,
     "metadata": {},
     "output_type": "execute_result"
    }
   ],
   "source": [
    "train['ClasePopularidad'].value_counts(normalize = True)"
   ]
  },
  {
   "cell_type": "markdown",
   "id": "9f8926cd",
   "metadata": {},
   "source": [
    "Vemos que las clases 1,2 y 3 resultan en el 92% de todos los datos, mientras que las clases 4 y 5 estan reducidas al 8%. Por lo que los datos estan muy desbalanceados. "
   ]
  },
  {
   "cell_type": "code",
   "execution_count": 10,
   "id": "851952ff",
   "metadata": {
    "id": "851952ff"
   },
   "outputs": [],
   "source": [
    "'''Dividimos el Train data set en Atributos y Target'''\n",
    "\n",
    "X_train = train.drop(['popularity','ClasePopularidad'],axis = 1)\n",
    "y_train = train['ClasePopularidad']\n"
   ]
  },
  {
   "cell_type": "code",
   "execution_count": 13,
   "id": "1ccbb3c2",
   "metadata": {},
   "outputs": [],
   "source": [
    "'''Dividimos el Test Set en Atributos y Target'''\n",
    "\n",
    "X_test = test.drop(['popularity','ClasePopularidad'],axis = 1)\n",
    "y_test = test['ClasePopularidad']"
   ]
  },
  {
   "cell_type": "markdown",
   "id": "aa32b43f",
   "metadata": {},
   "source": [
    "## 1- Arbol de Decision"
   ]
  },
  {
   "cell_type": "code",
   "execution_count": 11,
   "id": "50445523",
   "metadata": {
    "id": "50445523",
    "outputId": "79bc80ba-e708-41ee-a1f6-f22c2f01cd29"
   },
   "outputs": [
    {
     "data": {
      "text/plain": [
       "DecisionTreeClassifier(random_state=13)"
      ]
     },
     "execution_count": 11,
     "metadata": {},
     "output_type": "execute_result"
    }
   ],
   "source": [
    "'''Creamos el modelo'''\n",
    "\n",
    "\n",
    "modelArbol= tree.DecisionTreeClassifier(random_state = 13) \n",
    "modelArbol.fit(X_train, y_train) \n"
   ]
  },
  {
   "cell_type": "code",
   "execution_count": 14,
   "id": "20f04c6a",
   "metadata": {
    "id": "20f04c6a",
    "outputId": "81c075a2-c631-405e-fc18-29d9fd4b6bdd"
   },
   "outputs": [
    {
     "data": {
      "text/plain": [
       "array([2, 2, 4, ..., 2, 2, 1], dtype=int64)"
      ]
     },
     "execution_count": 14,
     "metadata": {},
     "output_type": "execute_result"
    }
   ],
   "source": [
    "#prediccion\n",
    "\n",
    "yPred = modelArbol.predict(X_test)\n",
    "yPred"
   ]
  },
  {
   "cell_type": "markdown",
   "id": "e17b079e",
   "metadata": {
    "id": "e17b079e"
   },
   "source": [
    "### Evaluacion del Modelo - Metricas"
   ]
  },
  {
   "cell_type": "code",
   "execution_count": 15,
   "id": "9001d09a",
   "metadata": {
    "id": "9001d09a",
    "outputId": "e2ed4e24-021d-46a2-b146-b36b95206d9f"
   },
   "outputs": [
    {
     "name": "stdout",
     "output_type": "stream",
     "text": [
      "El F1 Score del modelo es de 0.3315639447407612\n",
      "              precision    recall  f1-score   support\n",
      "\n",
      "           1       0.37      0.37      0.37      4488\n",
      "           2       0.36      0.35      0.36      4914\n",
      "           3       0.31      0.31      0.31      3592\n",
      "           4       0.10      0.11      0.11       904\n",
      "           5       0.05      0.05      0.05        22\n",
      "\n",
      "    accuracy                           0.33     13920\n",
      "   macro avg       0.24      0.24      0.24     13920\n",
      "weighted avg       0.33      0.33      0.33     13920\n",
      "\n",
      "           Prediccion Baja  Prediccion MediaBaja  PrediccionMeida  \\\n",
      "Baja                  1645                  1578             1005   \n",
      "MediaBaja             1593                  1732             1223   \n",
      "Media                  985                  1180             1120   \n",
      "MediaAlta              217                   309              273   \n",
      "Alta                     6                     8                5   \n",
      "\n",
      "           Prediccion MediaAlta  Prediccion Alta  \n",
      "Baja                        256                4  \n",
      "MediaBaja                   360                6  \n",
      "Media                       301                6  \n",
      "MediaAlta                   102                3  \n",
      "Alta                          2                1  \n"
     ]
    }
   ],
   "source": [
    "#Evaluacion para Clasificacion\n",
    "\n",
    "from sklearn.metrics import confusion_matrix, classification_report, f1_score, accuracy_score\n",
    "\n",
    "#Report\n",
    "f1 = f1_score(y_test,yPred,average='weighted')\n",
    "print(f'El F1 Score del modelo es de {f1}')\n",
    "print(classification_report(y_test,yPred))\n",
    "\n",
    "\n",
    "confusion_matrixArbol = pd.DataFrame(confusion_matrix(y_test, yPred))\n",
    "confusion_matrixArbol.index = ['Baja','MediaBaja','Media','MediaAlta','Alta']\n",
    "confusion_matrixArbol.columns = ['Prediccion Baja','Prediccion MediaBaja','PrediccionMeida','Prediccion MediaAlta','Prediccion Alta']\n",
    "\n",
    "print(confusion_matrixArbol)"
   ]
  },
  {
   "cell_type": "code",
   "execution_count": 16,
   "id": "5d774a8e",
   "metadata": {
    "id": "5d774a8e",
    "outputId": "988103fc-312b-48d4-abee-8e044357ffbd"
   },
   "outputs": [
    {
     "data": {
      "text/html": [
       "<div>\n",
       "<style scoped>\n",
       "    .dataframe tbody tr th:only-of-type {\n",
       "        vertical-align: middle;\n",
       "    }\n",
       "\n",
       "    .dataframe tbody tr th {\n",
       "        vertical-align: top;\n",
       "    }\n",
       "\n",
       "    .dataframe thead th {\n",
       "        text-align: right;\n",
       "    }\n",
       "</style>\n",
       "<table border=\"1\" class=\"dataframe\">\n",
       "  <thead>\n",
       "    <tr style=\"text-align: right;\">\n",
       "      <th></th>\n",
       "      <th>ClasePopularidad</th>\n",
       "      <th>prediccion</th>\n",
       "    </tr>\n",
       "  </thead>\n",
       "  <tbody>\n",
       "    <tr>\n",
       "      <th>1474</th>\n",
       "      <td>5</td>\n",
       "      <td>2</td>\n",
       "    </tr>\n",
       "    <tr>\n",
       "      <th>1617</th>\n",
       "      <td>5</td>\n",
       "      <td>2</td>\n",
       "    </tr>\n",
       "    <tr>\n",
       "      <th>1738</th>\n",
       "      <td>5</td>\n",
       "      <td>2</td>\n",
       "    </tr>\n",
       "    <tr>\n",
       "      <th>2335</th>\n",
       "      <td>5</td>\n",
       "      <td>3</td>\n",
       "    </tr>\n",
       "    <tr>\n",
       "      <th>2857</th>\n",
       "      <td>5</td>\n",
       "      <td>4</td>\n",
       "    </tr>\n",
       "    <tr>\n",
       "      <th>2969</th>\n",
       "      <td>5</td>\n",
       "      <td>2</td>\n",
       "    </tr>\n",
       "    <tr>\n",
       "      <th>3429</th>\n",
       "      <td>5</td>\n",
       "      <td>1</td>\n",
       "    </tr>\n",
       "    <tr>\n",
       "      <th>3441</th>\n",
       "      <td>5</td>\n",
       "      <td>3</td>\n",
       "    </tr>\n",
       "    <tr>\n",
       "      <th>3540</th>\n",
       "      <td>5</td>\n",
       "      <td>1</td>\n",
       "    </tr>\n",
       "    <tr>\n",
       "      <th>4125</th>\n",
       "      <td>5</td>\n",
       "      <td>5</td>\n",
       "    </tr>\n",
       "    <tr>\n",
       "      <th>5201</th>\n",
       "      <td>5</td>\n",
       "      <td>1</td>\n",
       "    </tr>\n",
       "    <tr>\n",
       "      <th>7269</th>\n",
       "      <td>5</td>\n",
       "      <td>2</td>\n",
       "    </tr>\n",
       "    <tr>\n",
       "      <th>7393</th>\n",
       "      <td>5</td>\n",
       "      <td>2</td>\n",
       "    </tr>\n",
       "    <tr>\n",
       "      <th>7538</th>\n",
       "      <td>5</td>\n",
       "      <td>3</td>\n",
       "    </tr>\n",
       "    <tr>\n",
       "      <th>7632</th>\n",
       "      <td>5</td>\n",
       "      <td>1</td>\n",
       "    </tr>\n",
       "    <tr>\n",
       "      <th>9281</th>\n",
       "      <td>5</td>\n",
       "      <td>4</td>\n",
       "    </tr>\n",
       "    <tr>\n",
       "      <th>9362</th>\n",
       "      <td>5</td>\n",
       "      <td>1</td>\n",
       "    </tr>\n",
       "    <tr>\n",
       "      <th>11382</th>\n",
       "      <td>5</td>\n",
       "      <td>3</td>\n",
       "    </tr>\n",
       "    <tr>\n",
       "      <th>12313</th>\n",
       "      <td>5</td>\n",
       "      <td>3</td>\n",
       "    </tr>\n",
       "    <tr>\n",
       "      <th>12546</th>\n",
       "      <td>5</td>\n",
       "      <td>2</td>\n",
       "    </tr>\n",
       "    <tr>\n",
       "      <th>13139</th>\n",
       "      <td>5</td>\n",
       "      <td>2</td>\n",
       "    </tr>\n",
       "    <tr>\n",
       "      <th>13187</th>\n",
       "      <td>5</td>\n",
       "      <td>1</td>\n",
       "    </tr>\n",
       "  </tbody>\n",
       "</table>\n",
       "</div>"
      ],
      "text/plain": [
       "       ClasePopularidad  prediccion\n",
       "1474                  5           2\n",
       "1617                  5           2\n",
       "1738                  5           2\n",
       "2335                  5           3\n",
       "2857                  5           4\n",
       "2969                  5           2\n",
       "3429                  5           1\n",
       "3441                  5           3\n",
       "3540                  5           1\n",
       "4125                  5           5\n",
       "5201                  5           1\n",
       "7269                  5           2\n",
       "7393                  5           2\n",
       "7538                  5           3\n",
       "7632                  5           1\n",
       "9281                  5           4\n",
       "9362                  5           1\n",
       "11382                 5           3\n",
       "12313                 5           3\n",
       "12546                 5           2\n",
       "13139                 5           2\n",
       "13187                 5           1"
      ]
     },
     "execution_count": 16,
     "metadata": {},
     "output_type": "execute_result"
    }
   ],
   "source": [
    "yTest = y_test.reset_index()\n",
    "ResultsClas = yTest.drop('id', axis = 1)\n",
    "ResultsClas['prediccion'] = yPred\n",
    "ResultsClas.loc[ResultsClas['ClasePopularidad']>4]\n",
    "    "
   ]
  },
  {
   "cell_type": "code",
   "execution_count": 17,
   "id": "6dd2b9cf",
   "metadata": {},
   "outputs": [
    {
     "data": {
      "text/plain": [
       "[0.28496148596146714,\n",
       " 0.28496148596146714,\n",
       " 0.31587119069874137,\n",
       " 0.29961017653519356,\n",
       " 0.36443959213527194,\n",
       " 0.36287256947960317,\n",
       " 0.36999719928051733,\n",
       " 0.3615170976176851,\n",
       " 0.3667095582091457,\n",
       " 0.3719411722562057,\n",
       " 0.37102657711136144,\n",
       " 0.3627798890840142,\n",
       " 0.3656344286929608,\n",
       " 0.36305806467663254]"
      ]
     },
     "execution_count": 17,
     "metadata": {},
     "output_type": "execute_result"
    }
   ],
   "source": [
    "'''Generamos una funcion que nos de el Valor de F1 para diferentes valores de Poda, de 1 a 15'''\n",
    "\n",
    "poda = np.arange(1,15)\n",
    "accuracy = []\n",
    "result = []\n",
    "\n",
    "for i in poda:\n",
    "    modelArbol= tree.DecisionTreeClassifier(random_state = 13,max_depth = i)  #Generamos el clasificador con la poda seleccionada\n",
    "    modelArbol.fit(X_train, y_train) \n",
    "    yPred = modelArbol.predict(X_test) #Generamos la prediccion\n",
    "    \n",
    "    a= accuracy_score(y_test,yPred)\n",
    "    f = f1_score(y_test,yPred,average='weighted')  \n",
    "    accuracy.append(a)\n",
    "    result.append(f)\n",
    "result\n"
   ]
  },
  {
   "cell_type": "code",
   "execution_count": 18,
   "id": "d5830aa5",
   "metadata": {},
   "outputs": [
    {
     "data": {
      "text/plain": [
       "[0.3737068965517241,\n",
       " 0.3737068965517241,\n",
       " 0.3790948275862069,\n",
       " 0.3813936781609195,\n",
       " 0.38548850574712645,\n",
       " 0.39001436781609194,\n",
       " 0.3956896551724138,\n",
       " 0.39188218390804597,\n",
       " 0.3898706896551724,\n",
       " 0.38785919540229885,\n",
       " 0.38491379310344825,\n",
       " 0.3783764367816092,\n",
       " 0.38038793103448276,\n",
       " 0.37658045977011495]"
      ]
     },
     "execution_count": 18,
     "metadata": {},
     "output_type": "execute_result"
    }
   ],
   "source": [
    "accuracy"
   ]
  },
  {
   "cell_type": "code",
   "execution_count": 19,
   "id": "32b05bfc",
   "metadata": {},
   "outputs": [
    {
     "data": {
      "text/plain": [
       "[<matplotlib.lines.Line2D at 0x192544a8be0>]"
      ]
     },
     "execution_count": 19,
     "metadata": {},
     "output_type": "execute_result"
    },
    {
     "data": {
      "image/png": "[encoded data removed]",
      "text/plain": [
       "<Figure size 432x288 with 1 Axes>"
      ]
     },
     "metadata": {
      "needs_background": "light"
     },
     "output_type": "display_data"
    }
   ],
   "source": [
    "'''Hacemos un grafico sencillo para ver evaluar el resultado'''\n",
    "plt.plot(result)\n",
    "plt.plot(accuracy)"
   ]
  },
  {
   "cell_type": "markdown",
   "id": "efe7745d",
   "metadata": {
    "id": "efe7745d"
   },
   "source": [
    "# 2- Random Forest"
   ]
  },
  {
   "cell_type": "code",
   "execution_count": 20,
   "id": "0c71c236",
   "metadata": {
    "id": "0c71c236",
    "outputId": "e7a65f88-4194-48f5-9609-a732bf2b3324"
   },
   "outputs": [
    {
     "data": {
      "text/plain": [
       "id\n",
       "146790    2\n",
       "142735    1\n",
       "971       4\n",
       "61341     1\n",
       "153359    3\n",
       "         ..\n",
       "70247     2\n",
       "44415     4\n",
       "142189    3\n",
       "62804     2\n",
       "95312     1\n",
       "Name: ClasePopularidad, Length: 55543, dtype: int64"
      ]
     },
     "execution_count": 20,
     "metadata": {},
     "output_type": "execute_result"
    }
   ],
   "source": [
    "'''Utilizando la misma division que se uso para la Regresion por Arbol de decision'''\n",
    "\n",
    "X_test\n",
    "y_train"
   ]
  },
  {
   "cell_type": "code",
   "execution_count": 21,
   "id": "0e7b8725",
   "metadata": {
    "id": "0e7b8725",
    "outputId": "d560f83e-130f-47b0-c13b-e53fa02a8cc6"
   },
   "outputs": [
    {
     "data": {
      "text/plain": [
       "RandomForestClassifier(n_estimators=25)"
      ]
     },
     "execution_count": 21,
     "metadata": {},
     "output_type": "execute_result"
    }
   ],
   "source": [
    "'''Creamos el modelo'''\n",
    "\n",
    "modelo_random_forest = RandomForestClassifier(n_estimators = 25) \n",
    "modelo_random_forest.fit(X_train, y_train)"
   ]
  },
  {
   "cell_type": "code",
   "execution_count": 22,
   "id": "103612b2",
   "metadata": {
    "id": "103612b2"
   },
   "outputs": [],
   "source": [
    "#Se hace la prediccion\n",
    "yPredForest = modelo_random_forest.predict(X_test)"
   ]
  },
  {
   "cell_type": "code",
   "execution_count": 23,
   "id": "70f57a42",
   "metadata": {
    "id": "70f57a42",
    "outputId": "d9ef65a2-fba9-456e-b5c4-eca6be3c113c"
   },
   "outputs": [
    {
     "name": "stdout",
     "output_type": "stream",
     "text": [
      "El F1 Score del modelo es de 0.365524101450168\n",
      "              precision    recall  f1-score   support\n",
      "\n",
      "           1       0.40      0.46      0.43      4488\n",
      "           2       0.37      0.46      0.41      4914\n",
      "           3       0.37      0.26      0.31      3592\n",
      "           4       0.33      0.03      0.05       904\n",
      "           5       0.00      0.00      0.00        22\n",
      "\n",
      "    accuracy                           0.38     13920\n",
      "   macro avg       0.29      0.24      0.24     13920\n",
      "weighted avg       0.38      0.38      0.37     13920\n",
      "\n",
      "           Prediccion Baja  Prediccion MediaBaja  PrediccionMeida  \\\n",
      "Baja                  2073                  1853              552   \n",
      "MediaBaja             1828                  2267              808   \n",
      "Media                 1067                  1558              935   \n",
      "MediaAlta              259                   390              228   \n",
      "Alta                    12                     6                3   \n",
      "\n",
      "           Prediccion MediaAlta  Prediccion Alta  \n",
      "Baja                         10                0  \n",
      "MediaBaja                    11                0  \n",
      "Media                        32                0  \n",
      "MediaAlta                    27                0  \n",
      "Alta                          1                0  \n"
     ]
    },
    {
     "name": "stderr",
     "output_type": "stream",
     "text": [
      "C:\\Users\\acana\\miniconda3\\lib\\site-packages\\sklearn\\metrics\\_classification.py:1318: UndefinedMetricWarning: Precision and F-score are ill-defined and being set to 0.0 in labels with no predicted samples. Use `zero_division` parameter to control this behavior.\n",
      "  _warn_prf(average, modifier, msg_start, len(result))\n",
      "C:\\Users\\acana\\miniconda3\\lib\\site-packages\\sklearn\\metrics\\_classification.py:1318: UndefinedMetricWarning: Precision and F-score are ill-defined and being set to 0.0 in labels with no predicted samples. Use `zero_division` parameter to control this behavior.\n",
      "  _warn_prf(average, modifier, msg_start, len(result))\n",
      "C:\\Users\\acana\\miniconda3\\lib\\site-packages\\sklearn\\metrics\\_classification.py:1318: UndefinedMetricWarning: Precision and F-score are ill-defined and being set to 0.0 in labels with no predicted samples. Use `zero_division` parameter to control this behavior.\n",
      "  _warn_prf(average, modifier, msg_start, len(result))\n"
     ]
    }
   ],
   "source": [
    "#Evaluacion con Metricas\n",
    "\n",
    "f1Forest = f1_score(y_test,yPredForest,average='weighted')\n",
    "print(f'El F1 Score del modelo es de {f1Forest}')\n",
    "print(classification_report(y_test,yPredForest))\n",
    "\n",
    "\n",
    "confusion_matrixForest = pd.DataFrame(confusion_matrix(y_test, yPredForest))\n",
    "confusion_matrixForest.index = ['Baja','MediaBaja','Media','MediaAlta','Alta']\n",
    "confusion_matrixForest.columns = ['Prediccion Baja','Prediccion MediaBaja','PrediccionMeida','Prediccion MediaAlta','Prediccion Alta']\n",
    "\n",
    "print(confusion_matrixForest)"
   ]
  },
  {
   "cell_type": "code",
   "execution_count": 24,
   "id": "795ab4d8",
   "metadata": {},
   "outputs": [
    {
     "name": "stdout",
     "output_type": "stream",
     "text": [
      "1.421875\n",
      "2.84375\n",
      "4.296875\n",
      "5.59375\n",
      "6.984375\n",
      "8.46875\n",
      "9.78125\n",
      "11.265625\n",
      "12.546875\n"
     ]
    },
    {
     "data": {
      "text/plain": [
       "[0.3584711846596739,\n",
       " 0.37107239734308206,\n",
       " 0.37059313866263627,\n",
       " 0.3705767528478167,\n",
       " 0.3825714845656504,\n",
       " 0.3795962929194708,\n",
       " 0.3867786479273822,\n",
       " 0.37844049211758424,\n",
       " 0.38610646998270987]"
      ]
     },
     "execution_count": 24,
     "metadata": {},
     "output_type": "execute_result"
    }
   ],
   "source": [
    "'''Similar al caso del Arbol, haremos un loop para calcular Accuracies a diferentes valore de n_estimator'''\n",
    "\n",
    "import time   #Quiero ver tambien cuanto tiempo lleva el training segun el numero de estimadores\n",
    "T = []\n",
    "estimators = np.arange(10,100,10)\n",
    "accuracyForest = []\n",
    "resultForest = []\n",
    "\n",
    "for i in estimators:\n",
    "    inicio = time.process_time()\n",
    "    modelo_random_forest = RandomForestClassifier(n_estimators = i) \n",
    "    modelo_random_forest.fit(X_train, y_train)\n",
    "    yPredForest = modelo_random_forest.predict(X_test)\n",
    "    fin = time.process_time()\n",
    "    t = fin-inicio\n",
    "    T.append(t)\n",
    "    print(t)\n",
    "    \n",
    "    \n",
    "    a= accuracy_score(y_test,yPredForest)\n",
    "    f = f1_score(y_test,yPredForest,average='weighted')  \n",
    "    accuracyForest.append(a)\n",
    "    resultForest.append(f)\n",
    "\n",
    "resultForest\n",
    "\n"
   ]
  },
  {
   "cell_type": "code",
   "execution_count": 25,
   "id": "8194a216",
   "metadata": {},
   "outputs": [
    {
     "data": {
      "text/plain": [
       "[0.3724137931034483,\n",
       " 0.38642241379310344,\n",
       " 0.38620689655172413,\n",
       " 0.3867097701149425,\n",
       " 0.398132183908046,\n",
       " 0.3961925287356322,\n",
       " 0.40323275862068964,\n",
       " 0.39511494252873564,\n",
       " 0.40337643678160917]"
      ]
     },
     "execution_count": 25,
     "metadata": {},
     "output_type": "execute_result"
    }
   ],
   "source": [
    "accuracyForest"
   ]
  },
  {
   "cell_type": "code",
   "execution_count": 26,
   "id": "994c3a54",
   "metadata": {},
   "outputs": [
    {
     "data": {
      "text/plain": [
       "[<matplotlib.lines.Line2D at 0x19256a2ce80>]"
      ]
     },
     "execution_count": 26,
     "metadata": {},
     "output_type": "execute_result"
    },
    {
     "data": {
      "image/png": "[encoded data removed]",
      "text/plain": [
       "<Figure size 432x288 with 1 Axes>"
      ]
     },
     "metadata": {
      "needs_background": "light"
     },
     "output_type": "display_data"
    }
   ],
   "source": [
    "'''Hacemos un grafico sencillo para ver evaluar el resultado'''\n",
    "plt.plot(estimators, resultForest)\n",
    "plt.plot(estimators, accuracyForest)"
   ]
  },
  {
   "cell_type": "markdown",
   "id": "f639accd",
   "metadata": {},
   "source": [
    "## Dummy Classifier"
   ]
  },
  {
   "cell_type": "code",
   "execution_count": 39,
   "id": "9d699c6b",
   "metadata": {},
   "outputs": [
    {
     "data": {
      "text/plain": [
       "id\n",
       "116295    2\n",
       "101223    2\n",
       "47928     2\n",
       "88722     2\n",
       "111363    2\n",
       "         ..\n",
       "159895    2\n",
       "37399     2\n",
       "139733    2\n",
       "136482    2\n",
       "103656    2\n",
       "Name: ClasePopularidad, Length: 13920, dtype: int64"
      ]
     },
     "execution_count": 39,
     "metadata": {},
     "output_type": "execute_result"
    }
   ],
   "source": [
    "moda = test['ClasePopularidad'].mode()[0]\n",
    "y_Dummy = test['ClasePopularidad'].apply(lambda x: moda)\n",
    "y_Dummy"
   ]
  },
  {
   "cell_type": "code",
   "execution_count": 40,
   "id": "6293962b",
   "metadata": {},
   "outputs": [
    {
     "name": "stdout",
     "output_type": "stream",
     "text": [
      "El F1 Score del Modelo mas facil es 0.18421224637760766\n"
     ]
    }
   ],
   "source": [
    "f1Dummy= f1_score(y_test,y_Dummy,average='weighted')\n",
    "print(f'El F1 Score del Modelo mas facil es {f1Dummy}')"
   ]
  },
  {
   "cell_type": "markdown",
   "id": "b185dcaa",
   "metadata": {},
   "source": [
    "## Resumen"
   ]
  },
  {
   "cell_type": "code",
   "execution_count": 43,
   "id": "ad17cf0f",
   "metadata": {},
   "outputs": [],
   "source": [
    "#Table Resumen\n",
    "\n",
    "Resumen = pd.DataFrame([[0.372,'poda = 10'],[0.387,'estimadores = 70'],[0.184,'no aplica']],index = ['Arbol','Random Forest','Dummy'], columns = ['Score','Parametro'])"
   ]
  },
  {
   "cell_type": "code",
   "execution_count": 44,
   "id": "bf19810a",
   "metadata": {},
   "outputs": [
    {
     "data": {
      "text/html": [
       "<div>\n",
       "<style scoped>\n",
       "    .dataframe tbody tr th:only-of-type {\n",
       "        vertical-align: middle;\n",
       "    }\n",
       "\n",
       "    .dataframe tbody tr th {\n",
       "        vertical-align: top;\n",
       "    }\n",
       "\n",
       "    .dataframe thead th {\n",
       "        text-align: right;\n",
       "    }\n",
       "</style>\n",
       "<table border=\"1\" class=\"dataframe\">\n",
       "  <thead>\n",
       "    <tr style=\"text-align: right;\">\n",
       "      <th></th>\n",
       "      <th>Score</th>\n",
       "      <th>Parametro</th>\n",
       "    </tr>\n",
       "  </thead>\n",
       "  <tbody>\n",
       "    <tr>\n",
       "      <th>Arbol</th>\n",
       "      <td>0.372</td>\n",
       "      <td>poda = 10</td>\n",
       "    </tr>\n",
       "    <tr>\n",
       "      <th>Random Forest</th>\n",
       "      <td>0.387</td>\n",
       "      <td>estimadores = 70</td>\n",
       "    </tr>\n",
       "    <tr>\n",
       "      <th>Dummy</th>\n",
       "      <td>0.184</td>\n",
       "      <td>no aplica</td>\n",
       "    </tr>\n",
       "  </tbody>\n",
       "</table>\n",
       "</div>"
      ],
      "text/plain": [
       "               Score         Parametro\n",
       "Arbol          0.372         poda = 10\n",
       "Random Forest  0.387  estimadores = 70\n",
       "Dummy          0.184         no aplica"
      ]
     },
     "execution_count": 44,
     "metadata": {},
     "output_type": "execute_result"
    }
   ],
   "source": [
    "Resumen"
   ]
  },
  {
   "cell_type": "code",
   "execution_count": null,
   "id": "81f2dbda",
   "metadata": {},
   "outputs": [],
   "source": []
  }
 ],
 "metadata": {
  "colab": {
   "collapsed_sections": [
    "8fcb8dd4",
    "efd25574"
   ],
   "name": "ML - Clasificacion.ipynb",
   "provenance": []
  },
  "kernelspec": {
   "display_name": "Python 3 (ipykernel)",
   "language": "python",
   "name": "python3"
  },
  "language_info": {
   "codemirror_mode": {
    "name": "ipython",
    "version": 3
   },
   "file_extension": ".py",
   "mimetype": "text/x-python",
   "name": "python",
   "nbconvert_exporter": "python",
   "pygments_lexer": "ipython3",
   "version": "3.9.7"
  }
 },
 "nbformat": 4,
 "nbformat_minor": 5
}
