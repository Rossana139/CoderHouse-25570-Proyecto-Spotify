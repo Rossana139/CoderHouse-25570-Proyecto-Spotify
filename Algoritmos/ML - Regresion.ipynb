{
 "cells": [
  {
   "cell_type": "markdown",
   "metadata": {
    "id": "zNDJ1m4EgFPX"
   },
   "source": [
    "# Algoritmos de Regresion"
   ]
  },
  {
   "cell_type": "code",
   "execution_count": null,
   "metadata": {},
   "outputs": [],
   "source": [
    "#Import\n",
    "\n",
    "import numpy as np\n",
    "import pandas as pd\n",
    "import matplotlib.pyplot as plt\n",
    "%matplotlib inline\n",
    "import seaborn as sns\n",
    "import math\n",
    "\n",
    "from sklearn.model_selection import train_test_split\n",
    "\n",
    "\n",
    "print('¡Librerías importadas con éxito!')"
   ]
  },
  {
   "cell_type": "code",
   "execution_count": null,
   "metadata": {},
   "outputs": [],
   "source": [
    "#Abrimos el archivo con los datos de Training Limpios\n",
    "df = pd.read_csv('data_cleanAlgoritmo.csv')\n",
    "df = df.set_index('id')\n",
    "df.head()"
   ]
  },
  {
   "cell_type": "code",
   "execution_count": null,
   "metadata": {},
   "outputs": [],
   "source": [
    "#Verificamos que no hay valores nulos \n",
    "df.isnull().sum()"
   ]
  },
  {
   "cell_type": "markdown",
   "metadata": {},
   "source": [
    "**Entrenamiento como Problema de Regresion**\n",
    "\n",
    "En este caso nuestro target es la variable **popularity** que toma valores del 1 al 100\n"
   ]
  },
  {
   "cell_type": "code",
   "execution_count": null,
   "metadata": {},
   "outputs": [],
   "source": [
    "'''Dividimos el data set en Atributos y Target'''\n",
    "\n",
    "X = df.drop(['name','release_date','artists','total_tracks','t_name0','popularity','ClasePopularidad'],axis = 1)\n",
    "y = df['popularity']"
   ]
  },
  {
   "cell_type": "code",
   "execution_count": null,
   "metadata": {},
   "outputs": [],
   "source": []
  },
  {
   "cell_type": "code",
   "execution_count": null,
   "metadata": {},
   "outputs": [],
   "source": [
    "from sklearn.metrics import mean_squared_error\n",
    "from sklearn.metrics import mean_absolute_error\n",
    "from sklearn.metrics import r2_score\n",
    "\n",
    "r2 = r2_score(y_test, yPred)\n",
    "MAE = mean_absolute_error(y_test, yPred)\n",
    "MSE = mean_squared_error(y_test, yPred)\n",
    "\n",
    "print(f'Para este arbol de decision el absolute error es {MAE}, el mean squared error es de {MSE} y el r2 es de {r2}')\n"
   ]
  },
  {
   "cell_type": "code",
   "execution_count": null,
   "metadata": {},
   "outputs": [],
   "source": [
    "yTest = y_test.reset_index()\n",
    "Results = yTest.drop('id', axis = 1)\n",
    "Results['prediccion'] = yPred\n",
    "Results['diferencia'] = Results['popularity'] - Results['prediccion']\n",
    "Results\n",
    "    "
   ]
  }
 ],
 "metadata": {
  "colab": {
   "authorship_tag": "ABX9TyOXIGHA908GHp0J6IoY/TmU",
   "collapsed_sections": [],
   "name": "ML - Regresion.ipynb",
   "provenance": []
  },
  "kernelspec": {
   "display_name": "Python 3 (ipykernel)",
   "language": "python",
   "name": "python3"
  },
  "language_info": {
   "codemirror_mode": {
    "name": "ipython",
    "version": 3
   },
   "file_extension": ".py",
   "mimetype": "text/x-python",
   "name": "python",
   "nbconvert_exporter": "python",
   "pygments_lexer": "ipython3",
   "version": "3.9.7"
  }
 },
 "nbformat": 4,
 "nbformat_minor": 1
}
