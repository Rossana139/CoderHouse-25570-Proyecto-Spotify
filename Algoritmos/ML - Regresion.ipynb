{
 "cells": [
  {
   "cell_type": "markdown",
   "metadata": {
    "id": "zNDJ1m4EgFPX"
   },
   "source": [
    "# Algoritmos de Regresion"
   ]
  },
  {
   "cell_type": "code",
   "execution_count": 1,
   "metadata": {},
   "outputs": [
    {
     "name": "stdout",
     "output_type": "stream",
     "text": [
      "¡Librerías importadas con éxito!\n"
     ]
    }
   ],
   "source": [
    "#Import\n",
    "\n",
    "import numpy as np\n",
    "import pandas as pd\n",
    "import matplotlib.pyplot as plt\n",
    "%matplotlib inline\n",
    "import seaborn as sns\n",
    "import math\n",
    "\n",
    "print('¡Librerías importadas con éxito!')"
   ]
  },
  {
   "cell_type": "code",
   "execution_count": 2,
   "metadata": {},
   "outputs": [
    {
     "data": {
      "text/html": [
       "<div>\n",
       "<style scoped>\n",
       "    .dataframe tbody tr th:only-of-type {\n",
       "        vertical-align: middle;\n",
       "    }\n",
       "\n",
       "    .dataframe tbody tr th {\n",
       "        vertical-align: top;\n",
       "    }\n",
       "\n",
       "    .dataframe thead th {\n",
       "        text-align: right;\n",
       "    }\n",
       "</style>\n",
       "<table border=\"1\" class=\"dataframe\">\n",
       "  <thead>\n",
       "    <tr style=\"text-align: right;\">\n",
       "      <th></th>\n",
       "      <th>t_key0</th>\n",
       "      <th>t_mode0</th>\n",
       "      <th>t_dur0</th>\n",
       "      <th>t_dance0</th>\n",
       "      <th>t_energy0</th>\n",
       "      <th>t_speech0</th>\n",
       "      <th>t_acous0</th>\n",
       "      <th>t_ins0</th>\n",
       "      <th>t_live0</th>\n",
       "      <th>t_val0</th>\n",
       "      <th>t_tempo0</th>\n",
       "      <th>popularity</th>\n",
       "      <th>ClasePopularidad</th>\n",
       "    </tr>\n",
       "    <tr>\n",
       "      <th>id</th>\n",
       "      <th></th>\n",
       "      <th></th>\n",
       "      <th></th>\n",
       "      <th></th>\n",
       "      <th></th>\n",
       "      <th></th>\n",
       "      <th></th>\n",
       "      <th></th>\n",
       "      <th></th>\n",
       "      <th></th>\n",
       "      <th></th>\n",
       "      <th></th>\n",
       "      <th></th>\n",
       "    </tr>\n",
       "  </thead>\n",
       "  <tbody>\n",
       "    <tr>\n",
       "      <th>146790</th>\n",
       "      <td>2.217079</td>\n",
       "      <td>0.0</td>\n",
       "      <td>139.731754</td>\n",
       "      <td>0.869118</td>\n",
       "      <td>0.519249</td>\n",
       "      <td>0.029225</td>\n",
       "      <td>0.319573</td>\n",
       "      <td>0.002967</td>\n",
       "      <td>0.091678</td>\n",
       "      <td>0.188732</td>\n",
       "      <td>26.457350</td>\n",
       "      <td>34.0</td>\n",
       "      <td>2</td>\n",
       "    </tr>\n",
       "    <tr>\n",
       "      <th>142735</th>\n",
       "      <td>4.304625</td>\n",
       "      <td>0.0</td>\n",
       "      <td>140.968235</td>\n",
       "      <td>1.910310</td>\n",
       "      <td>0.769341</td>\n",
       "      <td>0.067253</td>\n",
       "      <td>0.023262</td>\n",
       "      <td>0.000000</td>\n",
       "      <td>0.052209</td>\n",
       "      <td>0.663667</td>\n",
       "      <td>23.141670</td>\n",
       "      <td>2.0</td>\n",
       "      <td>1</td>\n",
       "    </tr>\n",
       "    <tr>\n",
       "      <th>971</th>\n",
       "      <td>4.304625</td>\n",
       "      <td>1.0</td>\n",
       "      <td>109.520199</td>\n",
       "      <td>0.977668</td>\n",
       "      <td>0.253525</td>\n",
       "      <td>0.026992</td>\n",
       "      <td>0.364818</td>\n",
       "      <td>0.001985</td>\n",
       "      <td>0.074177</td>\n",
       "      <td>0.444230</td>\n",
       "      <td>29.855429</td>\n",
       "      <td>62.0</td>\n",
       "      <td>4</td>\n",
       "    </tr>\n",
       "    <tr>\n",
       "      <th>61341</th>\n",
       "      <td>3.828397</td>\n",
       "      <td>1.0</td>\n",
       "      <td>75.954996</td>\n",
       "      <td>1.509001</td>\n",
       "      <td>0.931646</td>\n",
       "      <td>0.106186</td>\n",
       "      <td>0.139922</td>\n",
       "      <td>0.000000</td>\n",
       "      <td>0.120665</td>\n",
       "      <td>0.491329</td>\n",
       "      <td>31.462427</td>\n",
       "      <td>19.0</td>\n",
       "      <td>1</td>\n",
       "    </tr>\n",
       "    <tr>\n",
       "      <th>153359</th>\n",
       "      <td>3.828397</td>\n",
       "      <td>1.0</td>\n",
       "      <td>91.244236</td>\n",
       "      <td>1.555391</td>\n",
       "      <td>0.545826</td>\n",
       "      <td>0.035371</td>\n",
       "      <td>0.251469</td>\n",
       "      <td>0.149262</td>\n",
       "      <td>0.083623</td>\n",
       "      <td>0.272233</td>\n",
       "      <td>34.090480</td>\n",
       "      <td>43.0</td>\n",
       "      <td>3</td>\n",
       "    </tr>\n",
       "  </tbody>\n",
       "</table>\n",
       "</div>"
      ],
      "text/plain": [
       "          t_key0  t_mode0      t_dur0  t_dance0  t_energy0  t_speech0  \\\n",
       "id                                                                      \n",
       "146790  2.217079      0.0  139.731754  0.869118   0.519249   0.029225   \n",
       "142735  4.304625      0.0  140.968235  1.910310   0.769341   0.067253   \n",
       "971     4.304625      1.0  109.520199  0.977668   0.253525   0.026992   \n",
       "61341   3.828397      1.0   75.954996  1.509001   0.931646   0.106186   \n",
       "153359  3.828397      1.0   91.244236  1.555391   0.545826   0.035371   \n",
       "\n",
       "        t_acous0    t_ins0   t_live0    t_val0   t_tempo0  popularity  \\\n",
       "id                                                                      \n",
       "146790  0.319573  0.002967  0.091678  0.188732  26.457350        34.0   \n",
       "142735  0.023262  0.000000  0.052209  0.663667  23.141670         2.0   \n",
       "971     0.364818  0.001985  0.074177  0.444230  29.855429        62.0   \n",
       "61341   0.139922  0.000000  0.120665  0.491329  31.462427        19.0   \n",
       "153359  0.251469  0.149262  0.083623  0.272233  34.090480        43.0   \n",
       "\n",
       "        ClasePopularidad  \n",
       "id                        \n",
       "146790                 2  \n",
       "142735                 1  \n",
       "971                    4  \n",
       "61341                  1  \n",
       "153359                 3  "
      ]
     },
     "execution_count": 2,
     "metadata": {},
     "output_type": "execute_result"
    }
   ],
   "source": [
    "#Abrimos los archivos con el Train \n",
    "train = pd.read_csv('trainset.csv')\n",
    "train = train.set_index('id')\n",
    "train.head()"
   ]
  },
  {
   "cell_type": "code",
   "execution_count": 3,
   "metadata": {},
   "outputs": [
    {
     "data": {
      "text/plain": [
       "(55543, 13)"
      ]
     },
     "execution_count": 3,
     "metadata": {},
     "output_type": "execute_result"
    }
   ],
   "source": [
    "train.shape"
   ]
  },
  {
   "cell_type": "code",
   "execution_count": 4,
   "metadata": {},
   "outputs": [
    {
     "data": {
      "text/plain": [
       "t_key0              0\n",
       "t_mode0             0\n",
       "t_dur0              0\n",
       "t_dance0            0\n",
       "t_energy0           0\n",
       "t_speech0           0\n",
       "t_acous0            0\n",
       "t_ins0              0\n",
       "t_live0             0\n",
       "t_val0              0\n",
       "t_tempo0            0\n",
       "popularity          0\n",
       "ClasePopularidad    0\n",
       "dtype: int64"
      ]
     },
     "execution_count": 4,
     "metadata": {},
     "output_type": "execute_result"
    }
   ],
   "source": [
    "train.isnull().sum()"
   ]
  },
  {
   "cell_type": "code",
   "execution_count": 5,
   "metadata": {},
   "outputs": [
    {
     "data": {
      "text/html": [
       "<div>\n",
       "<style scoped>\n",
       "    .dataframe tbody tr th:only-of-type {\n",
       "        vertical-align: middle;\n",
       "    }\n",
       "\n",
       "    .dataframe tbody tr th {\n",
       "        vertical-align: top;\n",
       "    }\n",
       "\n",
       "    .dataframe thead th {\n",
       "        text-align: right;\n",
       "    }\n",
       "</style>\n",
       "<table border=\"1\" class=\"dataframe\">\n",
       "  <thead>\n",
       "    <tr style=\"text-align: right;\">\n",
       "      <th></th>\n",
       "      <th>t_key0</th>\n",
       "      <th>t_mode0</th>\n",
       "      <th>t_dur0</th>\n",
       "      <th>t_dance0</th>\n",
       "      <th>t_energy0</th>\n",
       "      <th>t_speech0</th>\n",
       "      <th>t_acous0</th>\n",
       "      <th>t_ins0</th>\n",
       "      <th>t_live0</th>\n",
       "      <th>t_val0</th>\n",
       "      <th>t_tempo0</th>\n",
       "      <th>popularity</th>\n",
       "      <th>ClasePopularidad</th>\n",
       "    </tr>\n",
       "    <tr>\n",
       "      <th>id</th>\n",
       "      <th></th>\n",
       "      <th></th>\n",
       "      <th></th>\n",
       "      <th></th>\n",
       "      <th></th>\n",
       "      <th></th>\n",
       "      <th></th>\n",
       "      <th></th>\n",
       "      <th></th>\n",
       "      <th></th>\n",
       "      <th></th>\n",
       "      <th></th>\n",
       "      <th></th>\n",
       "    </tr>\n",
       "  </thead>\n",
       "  <tbody>\n",
       "    <tr>\n",
       "      <th>116295</th>\n",
       "      <td>3.873489</td>\n",
       "      <td>1.0</td>\n",
       "      <td>102.077434</td>\n",
       "      <td>1.136005</td>\n",
       "      <td>0.652068</td>\n",
       "      <td>0.038806</td>\n",
       "      <td>0.245297</td>\n",
       "      <td>0.000004</td>\n",
       "      <td>0.061371</td>\n",
       "      <td>0.313870</td>\n",
       "      <td>20.325737</td>\n",
       "      <td>56.0</td>\n",
       "      <td>3</td>\n",
       "    </tr>\n",
       "    <tr>\n",
       "      <th>101223</th>\n",
       "      <td>1.595405</td>\n",
       "      <td>1.0</td>\n",
       "      <td>163.222452</td>\n",
       "      <td>1.559666</td>\n",
       "      <td>1.375892</td>\n",
       "      <td>0.090603</td>\n",
       "      <td>0.000999</td>\n",
       "      <td>0.144474</td>\n",
       "      <td>0.079899</td>\n",
       "      <td>0.237952</td>\n",
       "      <td>32.519312</td>\n",
       "      <td>22.0</td>\n",
       "      <td>2</td>\n",
       "    </tr>\n",
       "    <tr>\n",
       "      <th>47928</th>\n",
       "      <td>4.359420</td>\n",
       "      <td>1.0</td>\n",
       "      <td>113.531853</td>\n",
       "      <td>1.593801</td>\n",
       "      <td>1.504156</td>\n",
       "      <td>0.052763</td>\n",
       "      <td>0.030623</td>\n",
       "      <td>0.005559</td>\n",
       "      <td>0.070192</td>\n",
       "      <td>0.776168</td>\n",
       "      <td>26.369467</td>\n",
       "      <td>22.0</td>\n",
       "      <td>2</td>\n",
       "    </tr>\n",
       "    <tr>\n",
       "      <th>88722</th>\n",
       "      <td>3.873489</td>\n",
       "      <td>1.0</td>\n",
       "      <td>96.792061</td>\n",
       "      <td>1.289259</td>\n",
       "      <td>1.595320</td>\n",
       "      <td>0.048714</td>\n",
       "      <td>0.151174</td>\n",
       "      <td>0.000000</td>\n",
       "      <td>0.034878</td>\n",
       "      <td>0.862629</td>\n",
       "      <td>32.618254</td>\n",
       "      <td>50.0</td>\n",
       "      <td>3</td>\n",
       "    </tr>\n",
       "    <tr>\n",
       "      <th>111363</th>\n",
       "      <td>4.359420</td>\n",
       "      <td>0.0</td>\n",
       "      <td>102.640817</td>\n",
       "      <td>1.814995</td>\n",
       "      <td>1.031562</td>\n",
       "      <td>0.036711</td>\n",
       "      <td>0.015053</td>\n",
       "      <td>0.000002</td>\n",
       "      <td>0.089617</td>\n",
       "      <td>0.838169</td>\n",
       "      <td>25.157347</td>\n",
       "      <td>35.0</td>\n",
       "      <td>2</td>\n",
       "    </tr>\n",
       "  </tbody>\n",
       "</table>\n",
       "</div>"
      ],
      "text/plain": [
       "          t_key0  t_mode0      t_dur0  t_dance0  t_energy0  t_speech0  \\\n",
       "id                                                                      \n",
       "116295  3.873489      1.0  102.077434  1.136005   0.652068   0.038806   \n",
       "101223  1.595405      1.0  163.222452  1.559666   1.375892   0.090603   \n",
       "47928   4.359420      1.0  113.531853  1.593801   1.504156   0.052763   \n",
       "88722   3.873489      1.0   96.792061  1.289259   1.595320   0.048714   \n",
       "111363  4.359420      0.0  102.640817  1.814995   1.031562   0.036711   \n",
       "\n",
       "        t_acous0    t_ins0   t_live0    t_val0   t_tempo0  popularity  \\\n",
       "id                                                                      \n",
       "116295  0.245297  0.000004  0.061371  0.313870  20.325737        56.0   \n",
       "101223  0.000999  0.144474  0.079899  0.237952  32.519312        22.0   \n",
       "47928   0.030623  0.005559  0.070192  0.776168  26.369467        22.0   \n",
       "88722   0.151174  0.000000  0.034878  0.862629  32.618254        50.0   \n",
       "111363  0.015053  0.000002  0.089617  0.838169  25.157347        35.0   \n",
       "\n",
       "        ClasePopularidad  \n",
       "id                        \n",
       "116295                 3  \n",
       "101223                 2  \n",
       "47928                  2  \n",
       "88722                  3  \n",
       "111363                 2  "
      ]
     },
     "execution_count": 5,
     "metadata": {},
     "output_type": "execute_result"
    }
   ],
   "source": [
    "test = pd.read_csv('testset.csv')\n",
    "test = test.set_index('id')\n",
    "test.head()"
   ]
  },
  {
   "cell_type": "code",
   "execution_count": 6,
   "metadata": {},
   "outputs": [
    {
     "data": {
      "text/plain": [
       "(13920, 13)"
      ]
     },
     "execution_count": 6,
     "metadata": {},
     "output_type": "execute_result"
    }
   ],
   "source": [
    "test.shape"
   ]
  },
  {
   "cell_type": "code",
   "execution_count": 7,
   "metadata": {},
   "outputs": [
    {
     "data": {
      "text/plain": [
       "t_key0              0\n",
       "t_mode0             0\n",
       "t_dur0              0\n",
       "t_dance0            0\n",
       "t_energy0           0\n",
       "t_speech0           0\n",
       "t_acous0            0\n",
       "t_ins0              0\n",
       "t_live0             0\n",
       "t_val0              0\n",
       "t_tempo0            0\n",
       "popularity          0\n",
       "ClasePopularidad    0\n",
       "dtype: int64"
      ]
     },
     "execution_count": 7,
     "metadata": {},
     "output_type": "execute_result"
    }
   ],
   "source": [
    "#Verificamos que no hay valores nulos \n",
    "test.isnull().sum()"
   ]
  },
  {
   "cell_type": "markdown",
   "metadata": {},
   "source": [
    "**Entrenamiento como Problema de Regresion**\n",
    "\n",
    "En este caso nuestro target es la variable **popularity** que toma valores del 1 al 100\n"
   ]
  },
  {
   "cell_type": "code",
   "execution_count": 8,
   "metadata": {},
   "outputs": [],
   "source": [
    "'''Dividimos el Train data set en Atributos y Target'''\n",
    "\n",
    "X_train = train.drop(['popularity','ClasePopularidad'],axis = 1)\n",
    "y_train = train['popularity']"
   ]
  },
  {
   "cell_type": "code",
   "execution_count": 9,
   "metadata": {},
   "outputs": [],
   "source": [
    "'''Dividimos el Test Set en Atributos y Target'''\n",
    "\n",
    "X_test = test.drop(['popularity','ClasePopularidad'],axis = 1)\n",
    "y_test = test['popularity']"
   ]
  },
  {
   "cell_type": "markdown",
   "metadata": {},
   "source": [
    "## 1 - Regresion Lineal"
   ]
  },
  {
   "cell_type": "code",
   "execution_count": 10,
   "metadata": {},
   "outputs": [
    {
     "data": {
      "text/plain": [
       "LinearRegression()"
      ]
     },
     "execution_count": 10,
     "metadata": {},
     "output_type": "execute_result"
    }
   ],
   "source": [
    "from sklearn.linear_model import LinearRegression\n",
    "\n",
    "linear_model = LinearRegression()\n",
    "linear_model.fit(X_train, y_train)"
   ]
  },
  {
   "cell_type": "code",
   "execution_count": 11,
   "metadata": {},
   "outputs": [],
   "source": [
    "ypred = linear_model.predict(X_test)"
   ]
  },
  {
   "cell_type": "code",
   "execution_count": 12,
   "metadata": {},
   "outputs": [
    {
     "name": "stdout",
     "output_type": "stream",
     "text": [
      "Para este arbol de decision el absolute error es 15.065902435483522, el mean squared error es de 327.45067561897275 y el r2 es de 0.04448804339697965\n"
     ]
    }
   ],
   "source": [
    "from sklearn.metrics import mean_squared_error\n",
    "from sklearn.metrics import mean_absolute_error\n",
    "from sklearn.metrics import r2_score\n",
    "\n",
    "r2 = r2_score(y_test, ypred)\n",
    "MAE = mean_absolute_error(y_test, ypred)\n",
    "MSE = mean_squared_error(y_test, ypred)\n",
    "\n",
    "print(f'Para este arbol de decision el absolute error es {MAE}, el mean squared error es de {MSE} y el r2 es de {r2}')\n"
   ]
  },
  {
   "cell_type": "markdown",
   "metadata": {},
   "source": [
    "## 2 - Regresion Polinomica"
   ]
  },
  {
   "cell_type": "code",
   "execution_count": 13,
   "metadata": {},
   "outputs": [
    {
     "data": {
      "text/plain": [
       "LinearRegression()"
      ]
     },
     "execution_count": 13,
     "metadata": {},
     "output_type": "execute_result"
    }
   ],
   "source": [
    "from sklearn.preprocessing import PolynomialFeatures\n",
    "\n",
    "poly = PolynomialFeatures(degree=2, include_bias=False)  #para empezar comenzaremos con un polinomio de segundo grado\n",
    "poly_features = poly.fit_transform(X_train) #Transformamos nuestros features (nos devuelve las x2)\n",
    "\n",
    "poly_model = LinearRegression()\n",
    "poly_model.fit(poly_features,y_train)"
   ]
  },
  {
   "cell_type": "code",
   "execution_count": 14,
   "metadata": {},
   "outputs": [],
   "source": [
    "#ransformamos el X test\n",
    "poly_featuresTest = poly.fit_transform(X_test) #Transformamos nuestros features (nos devuelve las x2)\n",
    "\n",
    "ypredpoly = poly_model.predict(poly_featuresTest)"
   ]
  },
  {
   "cell_type": "code",
   "execution_count": 15,
   "metadata": {},
   "outputs": [
    {
     "name": "stdout",
     "output_type": "stream",
     "text": [
      "Para este arbol de decision el absolute error es 14.724282205570114, el mean squared error es de 316.51987063478595 y el r2 es de 0.07638449570370753\n"
     ]
    }
   ],
   "source": [
    "r2poly = r2_score(y_test, ypredpoly)\n",
    "MAEpoly = mean_absolute_error(y_test, ypredpoly)\n",
    "MSEpoly = mean_squared_error(y_test, ypredpoly)\n",
    "\n",
    "print(f'Para este arbol de decision el absolute error es {MAEpoly}, el mean squared error es de {MSEpoly} y el r2 es de {r2poly}')"
   ]
  },
  {
   "cell_type": "code",
   "execution_count": 44,
   "metadata": {},
   "outputs": [],
   "source": [
    "'''Hacemos un loop para poder probar con diferentes valores grado de polinomio'''\n",
    "\n",
    "\n",
    "degree = np.arange(2,6) #Probaremos con polinomios de grados 2 al 5\n",
    "MAEs = []\n",
    "rs = []\n",
    "\n",
    "\n",
    "for i in degree:\n",
    "    poly = PolynomialFeatures(degree=i, include_bias=False)\n",
    "    poly_features = poly.fit_transform(X_train)\n",
    "    poly_model = LinearRegression()\n",
    "    poly_model.fit(poly_features,y_train)\n",
    "    \n",
    "    poly_featuresTest = poly.fit_transform(X_test)\n",
    "    ypredpoly = poly_model.predict(poly_featuresTest)\n",
    "    \n",
    "    r = r2_score(y_test, ypredpoly)\n",
    "    M = mean_absolute_error(y_test, ypredpoly)\n",
    "    MAEs.append(M)\n",
    "    rs.append(r)\n"
   ]
  },
  {
   "cell_type": "code",
   "execution_count": 45,
   "metadata": {},
   "outputs": [
    {
     "data": {
      "text/plain": [
       "[0.07638449570370753,\n",
       " 0.08125732569847988,\n",
       " 0.07174579947785786,\n",
       " -0.0029679257948735938]"
      ]
     },
     "execution_count": 45,
     "metadata": {},
     "output_type": "execute_result"
    }
   ],
   "source": [
    "rs"
   ]
  },
  {
   "cell_type": "code",
   "execution_count": 51,
   "metadata": {},
   "outputs": [
    {
     "data": {
      "text/plain": [
       "[0.04448804339697965,\n",
       " 0.07638449570370753,\n",
       " 0.08125732569847988,\n",
       " 0.07174579947785786,\n",
       " -0.0029679257948735938]"
      ]
     },
     "execution_count": 51,
     "metadata": {},
     "output_type": "execute_result"
    }
   ],
   "source": [
    "R = [r2,rs[0],rs[1],rs[2],rs[3]]\n",
    "R"
   ]
  },
  {
   "cell_type": "code",
   "execution_count": 52,
   "metadata": {},
   "outputs": [
    {
     "data": {
      "text/plain": [
       "array([1, 2, 3, 4, 5])"
      ]
     },
     "execution_count": 52,
     "metadata": {},
     "output_type": "execute_result"
    }
   ],
   "source": [
    "d = np.arange(1,6)\n",
    "d"
   ]
  },
  {
   "cell_type": "code",
   "execution_count": 54,
   "metadata": {},
   "outputs": [
    {
     "data": {
      "text/plain": [
       "[<matplotlib.lines.Line2D at 0x198d6bee940>]"
      ]
     },
     "execution_count": 54,
     "metadata": {},
     "output_type": "execute_result"
    },
    {
     "data": {
      "image/png": "[encoded data removed]",
      "text/plain": [
       "<Figure size 432x288 with 1 Axes>"
      ]
     },
     "metadata": {
      "needs_background": "light"
     },
     "output_type": "display_data"
    }
   ],
   "source": [
    "'''Hacemos un grafico sencillo para ver evaluar el resultado'''\n",
    "plt.plot(d, R)"
   ]
  },
  {
   "cell_type": "markdown",
   "metadata": {},
   "source": [
    "## 3 - LASSO"
   ]
  },
  {
   "cell_type": "code",
   "execution_count": 55,
   "metadata": {},
   "outputs": [
    {
     "data": {
      "text/plain": [
       "Lasso()"
      ]
     },
     "execution_count": 55,
     "metadata": {},
     "output_type": "execute_result"
    }
   ],
   "source": [
    "from sklearn.linear_model import Lasso\n",
    "\n",
    "lasso_model = Lasso()\n",
    "lasso_model.fit(X_train,y_train)"
   ]
  },
  {
   "cell_type": "code",
   "execution_count": 56,
   "metadata": {},
   "outputs": [],
   "source": [
    "ypredLasso = lasso_model.predict(X_test)"
   ]
  },
  {
   "cell_type": "code",
   "execution_count": 57,
   "metadata": {},
   "outputs": [
    {
     "name": "stdout",
     "output_type": "stream",
     "text": [
      "Para este arbol de decision el absolute error es 15.449091919429831, el mean squared error es de 340.9795221707122 y el r2 es de 0.0050104194317854844\n"
     ]
    }
   ],
   "source": [
    "r2Lasso = r2_score(y_test, ypredLasso)\n",
    "MAELasso = mean_absolute_error(y_test, ypredLasso)\n",
    "MSELasso = mean_squared_error(y_test, ypredLasso)\n",
    "\n",
    "print(f'Para este arbol de decision el absolute error es {MAELasso}, el mean squared error es de {MSELasso} y el r2 es de {r2Lasso}')\n"
   ]
  },
  {
   "cell_type": "markdown",
   "metadata": {},
   "source": [
    "## 4 - Random Forest Regresor"
   ]
  },
  {
   "cell_type": "code",
   "execution_count": 64,
   "metadata": {},
   "outputs": [
    {
     "data": {
      "text/plain": [
       "RandomForestRegressor(n_estimators=25)"
      ]
     },
     "execution_count": 64,
     "metadata": {},
     "output_type": "execute_result"
    }
   ],
   "source": [
    "from sklearn.ensemble import RandomForestRegressor\n",
    "\n",
    "rf_model = RandomForestRegressor(n_estimators = 25)\n",
    "rf_model.fit(X_train,y_train)"
   ]
  },
  {
   "cell_type": "code",
   "execution_count": 65,
   "metadata": {},
   "outputs": [],
   "source": [
    "ypredrf = rf_model.predict(X_test)"
   ]
  },
  {
   "cell_type": "code",
   "execution_count": 66,
   "metadata": {},
   "outputs": [
    {
     "name": "stdout",
     "output_type": "stream",
     "text": [
      "Para este arbol de decision el absolute error es 14.69705138888889, el mean squared error es de 320.16062600572917 y el r2 es de 0.06576065050495483\n"
     ]
    }
   ],
   "source": [
    "r2rf = r2_score(y_test, ypredrf)\n",
    "MAErf = mean_absolute_error(y_test, ypredrf)\n",
    "MSErf = mean_squared_error(y_test, ypredrf)\n",
    "\n",
    "print(f'Para este arbol de decision el absolute error es {MAErf}, el mean squared error es de {MSErf} y el r2 es de {r2rf}')\n"
   ]
  },
  {
   "cell_type": "code",
   "execution_count": 61,
   "metadata": {},
   "outputs": [],
   "source": [
    "'''haremos un loop para calcular Accuracies a diferentes valore de n_estimator'''\n",
    "\n",
    "estimators = np.arange(10,100,10)\n",
    "MAEForest = []\n",
    "rForest = []\n",
    "\n",
    "for i in estimators:\n",
    "    rf_model = RandomForestRegressor(n_estimators = 50)\n",
    "    rf_model.fit(X_train,y_train)\n",
    "    ypredrf = rf_model.predict(X_test)\n",
    "    \n",
    "    r2rf = r2_score(y_test, ypredrf)\n",
    "    MAErf = mean_absolute_error(y_test, ypredrf)\n",
    "    rForest.append(r2rf)\n",
    "    MAEForest.append(MAErf)\n",
    "    \n"
   ]
  },
  {
   "cell_type": "code",
   "execution_count": 67,
   "metadata": {},
   "outputs": [
    {
     "data": {
      "text/plain": [
       "[0.08610312993026004,\n",
       " 0.08909154817211318,\n",
       " 0.08383062543913222,\n",
       " 0.0866545631332396,\n",
       " 0.08167298887833996,\n",
       " 0.08043565327268343,\n",
       " 0.08614142117242196,\n",
       " 0.08456099425078478,\n",
       " 0.08199527619329305]"
      ]
     },
     "execution_count": 67,
     "metadata": {},
     "output_type": "execute_result"
    }
   ],
   "source": [
    "rForest"
   ]
  },
  {
   "cell_type": "code",
   "execution_count": 63,
   "metadata": {},
   "outputs": [
    {
     "data": {
      "text/plain": [
       "[<matplotlib.lines.Line2D at 0x198d6e7ddc0>]"
      ]
     },
     "execution_count": 63,
     "metadata": {},
     "output_type": "execute_result"
    },
    {
     "data": {
      "image/png": "[encoded data removed]",
      "text/plain": [
       "<Figure size 432x288 with 1 Axes>"
      ]
     },
     "metadata": {
      "needs_background": "light"
     },
     "output_type": "display_data"
    }
   ],
   "source": [
    "plt.plot(estimators, rForest)\n"
   ]
  },
  {
   "cell_type": "markdown",
   "metadata": {},
   "source": [
    "## Dummy"
   ]
  },
  {
   "cell_type": "code",
   "execution_count": 68,
   "metadata": {},
   "outputs": [
    {
     "data": {
      "text/plain": [
       "1.0     314\n",
       "31.0    273\n",
       "29.0    272\n",
       "32.0    267\n",
       "19.0    262\n",
       "       ... \n",
       "86.0      2\n",
       "95.0      1\n",
       "89.0      1\n",
       "85.0      1\n",
       "98.0      1\n",
       "Name: popularity, Length: 89, dtype: int64"
      ]
     },
     "execution_count": 68,
     "metadata": {},
     "output_type": "execute_result"
    }
   ],
   "source": [
    "test['popularity'].value_counts()"
   ]
  },
  {
   "cell_type": "code",
   "execution_count": 69,
   "metadata": {},
   "outputs": [
    {
     "data": {
      "text/plain": [
       "31.37155172413793"
      ]
     },
     "execution_count": 69,
     "metadata": {},
     "output_type": "execute_result"
    }
   ],
   "source": [
    "test['popularity'].mean()"
   ]
  },
  {
   "cell_type": "code",
   "execution_count": 70,
   "metadata": {},
   "outputs": [
    {
     "data": {
      "text/plain": [
       "id\n",
       "116295    31.371552\n",
       "101223    31.371552\n",
       "47928     31.371552\n",
       "88722     31.371552\n",
       "111363    31.371552\n",
       "            ...    \n",
       "159895    31.371552\n",
       "37399     31.371552\n",
       "139733    31.371552\n",
       "136482    31.371552\n",
       "103656    31.371552\n",
       "Name: popularity, Length: 13920, dtype: float64"
      ]
     },
     "execution_count": 70,
     "metadata": {},
     "output_type": "execute_result"
    }
   ],
   "source": [
    "moda = test['popularity'].mean()\n",
    "y_Dummy = test['popularity'].apply(lambda x: moda)\n",
    "y_Dummy"
   ]
  },
  {
   "cell_type": "code",
   "execution_count": 71,
   "metadata": {},
   "outputs": [
    {
     "name": "stdout",
     "output_type": "stream",
     "text": [
      "Para este arbol de decision el absolute error es 15.49096574019025, el mean squared error es de 342.6965757530717 y el r2 es de 0.0\n"
     ]
    }
   ],
   "source": [
    "r2Dummy = r2_score(y_test, y_Dummy)\n",
    "MAEDummy = mean_absolute_error(y_test, y_Dummy)\n",
    "MSEDummy = mean_squared_error(y_test, y_Dummy)\n",
    "\n",
    "print(f'Para este arbol de decision el absolute error es {MAEDummy}, el mean squared error es de {MSEDummy} y el r2 es de {r2Dummy}')"
   ]
  },
  {
   "cell_type": "markdown",
   "metadata": {},
   "source": [
    "## Resumen"
   ]
  },
  {
   "cell_type": "code",
   "execution_count": 72,
   "metadata": {},
   "outputs": [],
   "source": [
    "Resumen = pd.DataFrame([[0.081,'3er grado'],[0.005,'no aplica'],[0.089,'estimadores = 20']],index = ['Regresion Polinomica','Lasso','Random Forest'], columns = ['R2','Parametro'])"
   ]
  },
  {
   "cell_type": "code",
   "execution_count": 74,
   "metadata": {},
   "outputs": [
    {
     "data": {
      "text/html": [
       "<div>\n",
       "<style scoped>\n",
       "    .dataframe tbody tr th:only-of-type {\n",
       "        vertical-align: middle;\n",
       "    }\n",
       "\n",
       "    .dataframe tbody tr th {\n",
       "        vertical-align: top;\n",
       "    }\n",
       "\n",
       "    .dataframe thead th {\n",
       "        text-align: right;\n",
       "    }\n",
       "</style>\n",
       "<table border=\"1\" class=\"dataframe\">\n",
       "  <thead>\n",
       "    <tr style=\"text-align: right;\">\n",
       "      <th></th>\n",
       "      <th>R2</th>\n",
       "      <th>Parametro</th>\n",
       "    </tr>\n",
       "  </thead>\n",
       "  <tbody>\n",
       "    <tr>\n",
       "      <th>Regresion Polinomica</th>\n",
       "      <td>0.081</td>\n",
       "      <td>3er grado</td>\n",
       "    </tr>\n",
       "    <tr>\n",
       "      <th>Lasso</th>\n",
       "      <td>0.005</td>\n",
       "      <td>no aplica</td>\n",
       "    </tr>\n",
       "    <tr>\n",
       "      <th>Random Forest</th>\n",
       "      <td>0.089</td>\n",
       "      <td>estimadores = 20</td>\n",
       "    </tr>\n",
       "  </tbody>\n",
       "</table>\n",
       "</div>"
      ],
      "text/plain": [
       "                         R2         Parametro\n",
       "Regresion Polinomica  0.081         3er grado\n",
       "Lasso                 0.005         no aplica\n",
       "Random Forest         0.089  estimadores = 20"
      ]
     },
     "execution_count": 74,
     "metadata": {},
     "output_type": "execute_result"
    }
   ],
   "source": [
    "Resumen"
   ]
  }
 ],
 "metadata": {
  "colab": {
   "authorship_tag": "ABX9TyOXIGHA908GHp0J6IoY/TmU",
   "collapsed_sections": [],
   "name": "ML - Regresion.ipynb",
   "provenance": []
  },
  "kernelspec": {
   "display_name": "Python 3 (ipykernel)",
   "language": "python",
   "name": "python3"
  },
  "language_info": {
   "codemirror_mode": {
    "name": "ipython",
    "version": 3
   },
   "file_extension": ".py",
   "mimetype": "text/x-python",
   "name": "python",
   "nbconvert_exporter": "python",
   "pygments_lexer": "ipython3",
   "version": "3.9.7"
  }
 },
 "nbformat": 4,
 "nbformat_minor": 1
}
